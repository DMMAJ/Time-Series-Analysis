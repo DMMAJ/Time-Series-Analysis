{
 "cells": [
  {
   "cell_type": "code",
   "execution_count": 130,
   "id": "e6c3063e-e7b5-47f7-abe6-01191e16c357",
   "metadata": {},
   "outputs": [],
   "source": [
    "import pandas as pd\n",
    "import matplotlib.pyplot as plt\n",
    "from statsmodels.tsa.seasonal import seasonal_decompose\n",
    "from sklearn.metrics import mean_squared_error, root_mean_squared_error, mean_absolute_error, mean_absolute_percentage_error"
   ]
  },
  {
   "cell_type": "code",
   "execution_count": 131,
   "id": "bd8be740-0c08-4b5a-8157-5485f13d150d",
   "metadata": {},
   "outputs": [
    {
     "data": {
      "text/html": [
       "<div>\n",
       "<style scoped>\n",
       "    .dataframe tbody tr th:only-of-type {\n",
       "        vertical-align: middle;\n",
       "    }\n",
       "\n",
       "    .dataframe tbody tr th {\n",
       "        vertical-align: top;\n",
       "    }\n",
       "\n",
       "    .dataframe thead th {\n",
       "        text-align: right;\n",
       "    }\n",
       "</style>\n",
       "<table border=\"1\" class=\"dataframe\">\n",
       "  <thead>\n",
       "    <tr style=\"text-align: right;\">\n",
       "      <th></th>\n",
       "      <th>Device Name</th>\n",
       "      <th>Instance Name</th>\n",
       "      <th>Updated time (America/Los_Angeles)</th>\n",
       "      <th>Packet Rate</th>\n",
       "    </tr>\n",
       "  </thead>\n",
       "  <tbody>\n",
       "    <tr>\n",
       "      <th>0</th>\n",
       "      <td>csn501</td>\n",
       "      <td>network.interface.packets.in</td>\n",
       "      <td>07-Mar-2016 04:00:00 PM</td>\n",
       "      <td>559.27</td>\n",
       "    </tr>\n",
       "    <tr>\n",
       "      <th>1</th>\n",
       "      <td>csn501</td>\n",
       "      <td>network.interface.packets.in</td>\n",
       "      <td>07-Mar-2016 05:00:00 PM</td>\n",
       "      <td>564.02</td>\n",
       "    </tr>\n",
       "    <tr>\n",
       "      <th>2</th>\n",
       "      <td>csn501</td>\n",
       "      <td>network.interface.packets.in</td>\n",
       "      <td>07-Mar-2016 06:00:00 PM</td>\n",
       "      <td>580.97</td>\n",
       "    </tr>\n",
       "    <tr>\n",
       "      <th>3</th>\n",
       "      <td>csn501</td>\n",
       "      <td>network.interface.packets.in</td>\n",
       "      <td>07-Mar-2016 07:00:00 PM</td>\n",
       "      <td>565.64</td>\n",
       "    </tr>\n",
       "    <tr>\n",
       "      <th>4</th>\n",
       "      <td>csn501</td>\n",
       "      <td>network.interface.packets.in</td>\n",
       "      <td>07-Mar-2016 08:00:00 PM</td>\n",
       "      <td>549.09</td>\n",
       "    </tr>\n",
       "    <tr>\n",
       "      <th>...</th>\n",
       "      <td>...</td>\n",
       "      <td>...</td>\n",
       "      <td>...</td>\n",
       "      <td>...</td>\n",
       "    </tr>\n",
       "    <tr>\n",
       "      <th>329</th>\n",
       "      <td>csn501</td>\n",
       "      <td>network.interface.packets.out</td>\n",
       "      <td>14-Mar-2016 11:00:00 AM</td>\n",
       "      <td>786.27</td>\n",
       "    </tr>\n",
       "    <tr>\n",
       "      <th>330</th>\n",
       "      <td>csn501</td>\n",
       "      <td>network.interface.packets.out</td>\n",
       "      <td>14-Mar-2016 12:00:00 PM</td>\n",
       "      <td>767.67</td>\n",
       "    </tr>\n",
       "    <tr>\n",
       "      <th>331</th>\n",
       "      <td>csn501</td>\n",
       "      <td>network.interface.packets.out</td>\n",
       "      <td>14-Mar-2016 01:00:00 PM</td>\n",
       "      <td>782.03</td>\n",
       "    </tr>\n",
       "    <tr>\n",
       "      <th>332</th>\n",
       "      <td>csn501</td>\n",
       "      <td>network.interface.packets.out</td>\n",
       "      <td>14-Mar-2016 02:00:00 PM</td>\n",
       "      <td>831.24</td>\n",
       "    </tr>\n",
       "    <tr>\n",
       "      <th>333</th>\n",
       "      <td>csn501</td>\n",
       "      <td>network.interface.packets.out</td>\n",
       "      <td>14-Mar-2016 03:00:00 PM</td>\n",
       "      <td>873.30</td>\n",
       "    </tr>\n",
       "  </tbody>\n",
       "</table>\n",
       "<p>334 rows × 4 columns</p>\n",
       "</div>"
      ],
      "text/plain": [
       "    Device Name                  Instance Name  \\\n",
       "0        csn501   network.interface.packets.in   \n",
       "1        csn501   network.interface.packets.in   \n",
       "2        csn501   network.interface.packets.in   \n",
       "3        csn501   network.interface.packets.in   \n",
       "4        csn501   network.interface.packets.in   \n",
       "..          ...                            ...   \n",
       "329      csn501  network.interface.packets.out   \n",
       "330      csn501  network.interface.packets.out   \n",
       "331      csn501  network.interface.packets.out   \n",
       "332      csn501  network.interface.packets.out   \n",
       "333      csn501  network.interface.packets.out   \n",
       "\n",
       "    Updated time (America/Los_Angeles)  Packet Rate  \n",
       "0              07-Mar-2016 04:00:00 PM       559.27  \n",
       "1              07-Mar-2016 05:00:00 PM       564.02  \n",
       "2              07-Mar-2016 06:00:00 PM       580.97  \n",
       "3              07-Mar-2016 07:00:00 PM       565.64  \n",
       "4              07-Mar-2016 08:00:00 PM       549.09  \n",
       "..                                 ...          ...  \n",
       "329            14-Mar-2016 11:00:00 AM       786.27  \n",
       "330            14-Mar-2016 12:00:00 PM       767.67  \n",
       "331            14-Mar-2016 01:00:00 PM       782.03  \n",
       "332            14-Mar-2016 02:00:00 PM       831.24  \n",
       "333            14-Mar-2016 03:00:00 PM       873.30  \n",
       "\n",
       "[334 rows x 4 columns]"
      ]
     },
     "execution_count": 131,
     "metadata": {},
     "output_type": "execute_result"
    }
   ],
   "source": [
    "data = pd.read_csv('2.csv')\n",
    "data"
   ]
  },
  {
   "cell_type": "code",
   "execution_count": 132,
   "id": "1b232bbc-5cb4-4fa3-b431-1b0cb872c50c",
   "metadata": {},
   "outputs": [
    {
     "data": {
      "text/plain": [
       "0      559.27\n",
       "1      564.02\n",
       "2      580.97\n",
       "3      565.64\n",
       "4      549.09\n",
       "        ...  \n",
       "162    576.76\n",
       "163    569.96\n",
       "164    573.23\n",
       "165    607.92\n",
       "166    674.72\n",
       "Name: Packet Rate, Length: 167, dtype: float64"
      ]
     },
     "execution_count": 132,
     "metadata": {},
     "output_type": "execute_result"
    }
   ],
   "source": [
    "data = data[data['Instance Name'] == 'network.interface.packets.in']\n",
    "data.iloc[:,3]"
   ]
  },
  {
   "cell_type": "code",
   "execution_count": 133,
   "id": "bb4f5077-fe0f-46cc-9723-1376cb799e0a",
   "metadata": {},
   "outputs": [
    {
     "data": {
      "text/html": [
       "<div>\n",
       "<style scoped>\n",
       "    .dataframe tbody tr th:only-of-type {\n",
       "        vertical-align: middle;\n",
       "    }\n",
       "\n",
       "    .dataframe tbody tr th {\n",
       "        vertical-align: top;\n",
       "    }\n",
       "\n",
       "    .dataframe thead th {\n",
       "        text-align: right;\n",
       "    }\n",
       "</style>\n",
       "<table border=\"1\" class=\"dataframe\">\n",
       "  <thead>\n",
       "    <tr style=\"text-align: right;\">\n",
       "      <th></th>\n",
       "      <th>Packet Rate</th>\n",
       "    </tr>\n",
       "    <tr>\n",
       "      <th>Updated time (America/Los_Angeles)</th>\n",
       "      <th></th>\n",
       "    </tr>\n",
       "  </thead>\n",
       "  <tbody>\n",
       "    <tr>\n",
       "      <th>07-Mar-2016 04:00:00 PM</th>\n",
       "      <td>559.27</td>\n",
       "    </tr>\n",
       "    <tr>\n",
       "      <th>07-Mar-2016 05:00:00 PM</th>\n",
       "      <td>564.02</td>\n",
       "    </tr>\n",
       "    <tr>\n",
       "      <th>07-Mar-2016 06:00:00 PM</th>\n",
       "      <td>580.97</td>\n",
       "    </tr>\n",
       "    <tr>\n",
       "      <th>07-Mar-2016 07:00:00 PM</th>\n",
       "      <td>565.64</td>\n",
       "    </tr>\n",
       "    <tr>\n",
       "      <th>07-Mar-2016 08:00:00 PM</th>\n",
       "      <td>549.09</td>\n",
       "    </tr>\n",
       "    <tr>\n",
       "      <th>...</th>\n",
       "      <td>...</td>\n",
       "    </tr>\n",
       "    <tr>\n",
       "      <th>14-Mar-2016 11:00:00 AM</th>\n",
       "      <td>576.76</td>\n",
       "    </tr>\n",
       "    <tr>\n",
       "      <th>14-Mar-2016 12:00:00 PM</th>\n",
       "      <td>569.96</td>\n",
       "    </tr>\n",
       "    <tr>\n",
       "      <th>14-Mar-2016 01:00:00 PM</th>\n",
       "      <td>573.23</td>\n",
       "    </tr>\n",
       "    <tr>\n",
       "      <th>14-Mar-2016 02:00:00 PM</th>\n",
       "      <td>607.92</td>\n",
       "    </tr>\n",
       "    <tr>\n",
       "      <th>14-Mar-2016 03:00:00 PM</th>\n",
       "      <td>674.72</td>\n",
       "    </tr>\n",
       "  </tbody>\n",
       "</table>\n",
       "<p>167 rows × 1 columns</p>\n",
       "</div>"
      ],
      "text/plain": [
       "                                    Packet Rate\n",
       "Updated time (America/Los_Angeles)             \n",
       "07-Mar-2016 04:00:00 PM                  559.27\n",
       "07-Mar-2016 05:00:00 PM                  564.02\n",
       "07-Mar-2016 06:00:00 PM                  580.97\n",
       "07-Mar-2016 07:00:00 PM                  565.64\n",
       "07-Mar-2016 08:00:00 PM                  549.09\n",
       "...                                         ...\n",
       "14-Mar-2016 11:00:00 AM                  576.76\n",
       "14-Mar-2016 12:00:00 PM                  569.96\n",
       "14-Mar-2016 01:00:00 PM                  573.23\n",
       "14-Mar-2016 02:00:00 PM                  607.92\n",
       "14-Mar-2016 03:00:00 PM                  674.72\n",
       "\n",
       "[167 rows x 1 columns]"
      ]
     },
     "execution_count": 133,
     "metadata": {},
     "output_type": "execute_result"
    }
   ],
   "source": [
    "new_data = data.iloc[:,[2,3]]\n",
    "new_data.set_index('Updated time (America/Los_Angeles)', inplace=True)\n",
    "new_data"
   ]
  },
  {
   "cell_type": "code",
   "execution_count": 134,
   "id": "7fb394d6-7f4d-43db-ac51-d3bc8ac748e8",
   "metadata": {},
   "outputs": [
    {
     "data": {
      "text/plain": [
       "[<matplotlib.lines.Line2D at 0x317a22c50>]"
      ]
     },
     "execution_count": 134,
     "metadata": {},
     "output_type": "execute_result"
    },
    {
     "data": {
      "image/png": "[encoded data removed]",
      "text/plain": [
       "<Figure size 1000x600 with 1 Axes>"
      ]
     },
     "metadata": {},
     "output_type": "display_data"
    }
   ],
   "source": [
    "plt.figure(figsize=(10,6))\n",
    "plt.plot(new_data)"
   ]
  },
  {
   "cell_type": "code",
   "execution_count": 135,
   "id": "e53d1aca-d3d8-41a2-9db4-bf41a803aa31",
   "metadata": {},
   "outputs": [
    {
     "data": {
      "image/png": "[encoded data removed]",
      "text/plain": [
       "<Figure size 640x480 with 4 Axes>"
      ]
     },
     "metadata": {},
     "output_type": "display_data"
    }
   ],
   "source": [
    "results = seasonal_decompose(new_data,model='additve', period=24)\n",
    "results.plot()\n",
    "plt.show()"
   ]
  },
  {
   "cell_type": "code",
   "execution_count": 136,
   "id": "8dbc10c4-ed57-4cc4-ba97-a053baafe03e",
   "metadata": {},
   "outputs": [
    {
     "data": {
      "text/html": [
       "<div>\n",
       "<style scoped>\n",
       "    .dataframe tbody tr th:only-of-type {\n",
       "        vertical-align: middle;\n",
       "    }\n",
       "\n",
       "    .dataframe tbody tr th {\n",
       "        vertical-align: top;\n",
       "    }\n",
       "\n",
       "    .dataframe thead th {\n",
       "        text-align: right;\n",
       "    }\n",
       "</style>\n",
       "<table border=\"1\" class=\"dataframe\">\n",
       "  <thead>\n",
       "    <tr style=\"text-align: right;\">\n",
       "      <th></th>\n",
       "      <th>Packet Rate</th>\n",
       "    </tr>\n",
       "    <tr>\n",
       "      <th>Updated time (America/Los_Angeles)</th>\n",
       "      <th></th>\n",
       "    </tr>\n",
       "  </thead>\n",
       "  <tbody>\n",
       "    <tr>\n",
       "      <th>07-Mar-2016 04:00:00 PM</th>\n",
       "      <td>559.27</td>\n",
       "    </tr>\n",
       "    <tr>\n",
       "      <th>07-Mar-2016 05:00:00 PM</th>\n",
       "      <td>564.02</td>\n",
       "    </tr>\n",
       "    <tr>\n",
       "      <th>07-Mar-2016 06:00:00 PM</th>\n",
       "      <td>580.97</td>\n",
       "    </tr>\n",
       "    <tr>\n",
       "      <th>07-Mar-2016 07:00:00 PM</th>\n",
       "      <td>565.64</td>\n",
       "    </tr>\n",
       "    <tr>\n",
       "      <th>07-Mar-2016 08:00:00 PM</th>\n",
       "      <td>549.09</td>\n",
       "    </tr>\n",
       "    <tr>\n",
       "      <th>...</th>\n",
       "      <td>...</td>\n",
       "    </tr>\n",
       "    <tr>\n",
       "      <th>13-Mar-2016 12:00:00 AM</th>\n",
       "      <td>559.99</td>\n",
       "    </tr>\n",
       "    <tr>\n",
       "      <th>13-Mar-2016 01:00:00 AM</th>\n",
       "      <td>569.63</td>\n",
       "    </tr>\n",
       "    <tr>\n",
       "      <th>13-Mar-2016 03:00:00 AM</th>\n",
       "      <td>614.26</td>\n",
       "    </tr>\n",
       "    <tr>\n",
       "      <th>13-Mar-2016 04:00:00 AM</th>\n",
       "      <td>565.40</td>\n",
       "    </tr>\n",
       "    <tr>\n",
       "      <th>13-Mar-2016 05:00:00 AM</th>\n",
       "      <td>559.25</td>\n",
       "    </tr>\n",
       "  </tbody>\n",
       "</table>\n",
       "<p>133 rows × 1 columns</p>\n",
       "</div>"
      ],
      "text/plain": [
       "                                    Packet Rate\n",
       "Updated time (America/Los_Angeles)             \n",
       "07-Mar-2016 04:00:00 PM                  559.27\n",
       "07-Mar-2016 05:00:00 PM                  564.02\n",
       "07-Mar-2016 06:00:00 PM                  580.97\n",
       "07-Mar-2016 07:00:00 PM                  565.64\n",
       "07-Mar-2016 08:00:00 PM                  549.09\n",
       "...                                         ...\n",
       "13-Mar-2016 12:00:00 AM                  559.99\n",
       "13-Mar-2016 01:00:00 AM                  569.63\n",
       "13-Mar-2016 03:00:00 AM                  614.26\n",
       "13-Mar-2016 04:00:00 AM                  565.40\n",
       "13-Mar-2016 05:00:00 AM                  559.25\n",
       "\n",
       "[133 rows x 1 columns]"
      ]
     },
     "execution_count": 136,
     "metadata": {},
     "output_type": "execute_result"
    }
   ],
   "source": [
    "# Split the data into training and testing sets\n",
    "train_data = new_data[:int(len(new_data) * 0.8)]\n",
    "test_data = new_data[int(len(new_data) * 0.8):]\n",
    "train_data"
   ]
  },
  {
   "cell_type": "code",
   "execution_count": 137,
   "id": "c7a76f38-aeb7-4f59-8542-533b4903ef07",
   "metadata": {},
   "outputs": [],
   "source": [
    "# Scale the data\n",
    "from sklearn.preprocessing import MinMaxScaler\n",
    "scaler = MinMaxScaler()\n",
    "train_data_scaled = scaler.fit_transform(train_data)\n",
    "test_data_scaled = scaler.transform(test_data)"
   ]
  },
  {
   "cell_type": "code",
   "execution_count": 138,
   "id": "fd0ed99d-9d57-46f8-abf7-7f878f55cb53",
   "metadata": {},
   "outputs": [
    {
     "name": "stderr",
     "output_type": "stream",
     "text": [
      "/opt/anaconda3/lib/python3.11/site-packages/keras/src/layers/rnn/rnn.py:204: UserWarning: Do not pass an `input_shape`/`input_dim` argument to a layer. When using Sequential models, prefer using an `Input(shape)` object as the first layer in the model instead.\n",
      "  super().__init__(**kwargs)\n"
     ]
    }
   ],
   "source": [
    "# Create the LSTM model\n",
    "from keras.models import Sequential\n",
    "from keras.layers import Dense\n",
    "# from keras.layers import Dropout\n",
    "from keras.layers import LSTM\n",
    "# from keras.utils import np_utils\n",
    "\n",
    "model = Sequential()\n",
    "model.add(LSTM(128, input_shape=(train_data_scaled.shape[1], 1)))\n",
    "model.add(Dense(1))\n",
    "# Compile the model\n",
    "model.compile(loss='mse', optimizer='adam')"
   ]
  },
  {
   "cell_type": "code",
   "execution_count": 150,
   "id": "887f7336-6c97-4bc4-a2b2-8cfd85faf45e",
   "metadata": {},
   "outputs": [
    {
     "name": "stdout",
     "output_type": "stream",
     "text": [
      "Epoch 1/10\n",
      "\u001b[1m5/5\u001b[0m \u001b[32m━━━━━━━━━━━━━━━━━━━━\u001b[0m\u001b[37m\u001b[0m \u001b[1m0s\u001b[0m 2ms/step - loss: 6.4869e-04 \n",
      "Epoch 2/10\n",
      "\u001b[1m5/5\u001b[0m \u001b[32m━━━━━━━━━━━━━━━━━━━━\u001b[0m\u001b[37m\u001b[0m \u001b[1m0s\u001b[0m 1ms/step - loss: 6.5292e-04 \n",
      "Epoch 3/10\n",
      "\u001b[1m5/5\u001b[0m \u001b[32m━━━━━━━━━━━━━━━━━━━━\u001b[0m\u001b[37m\u001b[0m \u001b[1m0s\u001b[0m 1ms/step - loss: 6.8999e-04 \n",
      "Epoch 4/10\n",
      "\u001b[1m5/5\u001b[0m \u001b[32m━━━━━━━━━━━━━━━━━━━━\u001b[0m\u001b[37m\u001b[0m \u001b[1m0s\u001b[0m 2ms/step - loss: 9.3719e-04\n",
      "Epoch 5/10\n",
      "\u001b[1m5/5\u001b[0m \u001b[32m━━━━━━━━━━━━━━━━━━━━\u001b[0m\u001b[37m\u001b[0m \u001b[1m0s\u001b[0m 2ms/step - loss: 6.8494e-04 \n",
      "Epoch 6/10\n",
      "\u001b[1m5/5\u001b[0m \u001b[32m━━━━━━━━━━━━━━━━━━━━\u001b[0m\u001b[37m\u001b[0m \u001b[1m0s\u001b[0m 1ms/step - loss: 4.5449e-04 \n",
      "Epoch 7/10\n",
      "\u001b[1m5/5\u001b[0m \u001b[32m━━━━━━━━━━━━━━━━━━━━\u001b[0m\u001b[37m\u001b[0m \u001b[1m0s\u001b[0m 1ms/step - loss: 7.3895e-04\n",
      "Epoch 8/10\n",
      "\u001b[1m5/5\u001b[0m \u001b[32m━━━━━━━━━━━━━━━━━━━━\u001b[0m\u001b[37m\u001b[0m \u001b[1m0s\u001b[0m 1ms/step - loss: 6.0745e-04\n",
      "Epoch 9/10\n",
      "\u001b[1m5/5\u001b[0m \u001b[32m━━━━━━━━━━━━━━━━━━━━\u001b[0m\u001b[37m\u001b[0m \u001b[1m0s\u001b[0m 2ms/step - loss: 7.4648e-04\n",
      "Epoch 10/10\n",
      "\u001b[1m5/5\u001b[0m \u001b[32m━━━━━━━━━━━━━━━━━━━━\u001b[0m\u001b[37m\u001b[0m \u001b[1m0s\u001b[0m 2ms/step - loss: 4.3162e-04\n",
      "\u001b[1m2/2\u001b[0m \u001b[32m━━━━━━━━━━━━━━━━━━━━\u001b[0m\u001b[37m\u001b[0m \u001b[1m0s\u001b[0m 1ms/step\n"
     ]
    },
    {
     "data": {
      "text/html": [
       "<pre style=\"white-space:pre;overflow-x:auto;line-height:normal;font-family:Menlo,'DejaVu Sans Mono',consolas,'Courier New',monospace\"><span style=\"font-weight: bold\">Model: \"sequential_4\"</span>\n",
       "</pre>\n"
      ],
      "text/plain": [
       "\u001b[1mModel: \"sequential_4\"\u001b[0m\n"
      ]
     },
     "metadata": {},
     "output_type": "display_data"
    },
    {
     "data": {
      "text/html": [
       "<pre style=\"white-space:pre;overflow-x:auto;line-height:normal;font-family:Menlo,'DejaVu Sans Mono',consolas,'Courier New',monospace\">┏━━━━━━━━━━━━━━━━━━━━━━━━━━━━━━━━━┳━━━━━━━━━━━━━━━━━━━━━━━━┳━━━━━━━━━━━━━━━┓\n",
       "┃<span style=\"font-weight: bold\"> Layer (type)                    </span>┃<span style=\"font-weight: bold\"> Output Shape           </span>┃<span style=\"font-weight: bold\">       Param # </span>┃\n",
       "┡━━━━━━━━━━━━━━━━━━━━━━━━━━━━━━━━━╇━━━━━━━━━━━━━━━━━━━━━━━━╇━━━━━━━━━━━━━━━┩\n",
       "│ lstm_4 (<span style=\"color: #0087ff; text-decoration-color: #0087ff\">LSTM</span>)                   │ (<span style=\"color: #00d7ff; text-decoration-color: #00d7ff\">None</span>, <span style=\"color: #00af00; text-decoration-color: #00af00\">128</span>)            │        <span style=\"color: #00af00; text-decoration-color: #00af00\">66,560</span> │\n",
       "├─────────────────────────────────┼────────────────────────┼───────────────┤\n",
       "│ dense_4 (<span style=\"color: #0087ff; text-decoration-color: #0087ff\">Dense</span>)                 │ (<span style=\"color: #00d7ff; text-decoration-color: #00d7ff\">None</span>, <span style=\"color: #00af00; text-decoration-color: #00af00\">1</span>)              │           <span style=\"color: #00af00; text-decoration-color: #00af00\">129</span> │\n",
       "└─────────────────────────────────┴────────────────────────┴───────────────┘\n",
       "</pre>\n"
      ],
      "text/plain": [
       "┏━━━━━━━━━━━━━━━━━━━━━━━━━━━━━━━━━┳━━━━━━━━━━━━━━━━━━━━━━━━┳━━━━━━━━━━━━━━━┓\n",
       "┃\u001b[1m \u001b[0m\u001b[1mLayer (type)                   \u001b[0m\u001b[1m \u001b[0m┃\u001b[1m \u001b[0m\u001b[1mOutput Shape          \u001b[0m\u001b[1m \u001b[0m┃\u001b[1m \u001b[0m\u001b[1m      Param #\u001b[0m\u001b[1m \u001b[0m┃\n",
       "┡━━━━━━━━━━━━━━━━━━━━━━━━━━━━━━━━━╇━━━━━━━━━━━━━━━━━━━━━━━━╇━━━━━━━━━━━━━━━┩\n",
       "│ lstm_4 (\u001b[38;5;33mLSTM\u001b[0m)                   │ (\u001b[38;5;45mNone\u001b[0m, \u001b[38;5;34m128\u001b[0m)            │        \u001b[38;5;34m66,560\u001b[0m │\n",
       "├─────────────────────────────────┼────────────────────────┼───────────────┤\n",
       "│ dense_4 (\u001b[38;5;33mDense\u001b[0m)                 │ (\u001b[38;5;45mNone\u001b[0m, \u001b[38;5;34m1\u001b[0m)              │           \u001b[38;5;34m129\u001b[0m │\n",
       "└─────────────────────────────────┴────────────────────────┴───────────────┘\n"
      ]
     },
     "metadata": {},
     "output_type": "display_data"
    },
    {
     "data": {
      "text/html": [
       "<pre style=\"white-space:pre;overflow-x:auto;line-height:normal;font-family:Menlo,'DejaVu Sans Mono',consolas,'Courier New',monospace\"><span style=\"font-weight: bold\"> Total params: </span><span style=\"color: #00af00; text-decoration-color: #00af00\">200,069</span> (781.52 KB)\n",
       "</pre>\n"
      ],
      "text/plain": [
       "\u001b[1m Total params: \u001b[0m\u001b[38;5;34m200,069\u001b[0m (781.52 KB)\n"
      ]
     },
     "metadata": {},
     "output_type": "display_data"
    },
    {
     "data": {
      "text/html": [
       "<pre style=\"white-space:pre;overflow-x:auto;line-height:normal;font-family:Menlo,'DejaVu Sans Mono',consolas,'Courier New',monospace\"><span style=\"font-weight: bold\"> Trainable params: </span><span style=\"color: #00af00; text-decoration-color: #00af00\">66,689</span> (260.50 KB)\n",
       "</pre>\n"
      ],
      "text/plain": [
       "\u001b[1m Trainable params: \u001b[0m\u001b[38;5;34m66,689\u001b[0m (260.50 KB)\n"
      ]
     },
     "metadata": {},
     "output_type": "display_data"
    },
    {
     "data": {
      "text/html": [
       "<pre style=\"white-space:pre;overflow-x:auto;line-height:normal;font-family:Menlo,'DejaVu Sans Mono',consolas,'Courier New',monospace\"><span style=\"font-weight: bold\"> Non-trainable params: </span><span style=\"color: #00af00; text-decoration-color: #00af00\">0</span> (0.00 B)\n",
       "</pre>\n"
      ],
      "text/plain": [
       "\u001b[1m Non-trainable params: \u001b[0m\u001b[38;5;34m0\u001b[0m (0.00 B)\n"
      ]
     },
     "metadata": {},
     "output_type": "display_data"
    },
    {
     "data": {
      "text/html": [
       "<pre style=\"white-space:pre;overflow-x:auto;line-height:normal;font-family:Menlo,'DejaVu Sans Mono',consolas,'Courier New',monospace\"><span style=\"font-weight: bold\"> Optimizer params: </span><span style=\"color: #00af00; text-decoration-color: #00af00\">133,380</span> (521.02 KB)\n",
       "</pre>\n"
      ],
      "text/plain": [
       "\u001b[1m Optimizer params: \u001b[0m\u001b[38;5;34m133,380\u001b[0m (521.02 KB)\n"
      ]
     },
     "metadata": {},
     "output_type": "display_data"
    }
   ],
   "source": [
    "# Train the model\n",
    "model.fit(train_data_scaled, train_data_scaled, epochs=10)\n",
    "\n",
    "# Make predictions on the test data\n",
    "test_predictions_scaled = model.predict(test_data_scaled)\n",
    "\n",
    "model.summary()"
   ]
  },
  {
   "cell_type": "code",
   "execution_count": 151,
   "id": "221a0b04-5249-42ba-9b34-6903554ecdbb",
   "metadata": {},
   "outputs": [
    {
     "name": "stdout",
     "output_type": "stream",
     "text": [
      "\u001b[1m5/5\u001b[0m \u001b[32m━━━━━━━━━━━━━━━━━━━━\u001b[0m\u001b[37m\u001b[0m \u001b[1m0s\u001b[0m 1ms/step - loss: 3.5198e-04 \n"
     ]
    }
   ],
   "source": [
    "score = model.evaluate(train_data_scaled,train_data_scaled)\n"
   ]
  },
  {
   "cell_type": "code",
   "execution_count": 152,
   "id": "566bc7fa-5df3-4f1c-8d68-6a0b2884bc8d",
   "metadata": {},
   "outputs": [
    {
     "ename": "KeyError",
     "evalue": "'loss'",
     "output_type": "error",
     "traceback": [
      "\u001b[0;31m---------------------------------------------------------------------------\u001b[0m",
      "\u001b[0;31mKeyError\u001b[0m                                  Traceback (most recent call last)",
      "Cell \u001b[0;32mIn[152], line 1\u001b[0m\n\u001b[0;32m----> 1\u001b[0m loss_per_epoch \u001b[38;5;241m=\u001b[39m model\u001b[38;5;241m.\u001b[39mhistory\u001b[38;5;241m.\u001b[39mhistory[\u001b[38;5;124m'\u001b[39m\u001b[38;5;124mloss\u001b[39m\u001b[38;5;124m'\u001b[39m]\n\u001b[1;32m      2\u001b[0m plt\u001b[38;5;241m.\u001b[39mplot(loss_per_epoch)\n",
      "\u001b[0;31mKeyError\u001b[0m: 'loss'"
     ]
    }
   ],
   "source": [
    "loss_per_epoch = model.history.history['loss']\n",
    "plt.plot(loss_per_epoch)"
   ]
  },
  {
   "cell_type": "code",
   "execution_count": 164,
   "id": "559bf5ea-4c04-40b5-8fbe-65c03a13ba7f",
   "metadata": {},
   "outputs": [
    {
     "data": {
      "text/plain": [
       "Index(['13-Mar-2016 06:00:00 AM', '13-Mar-2016 07:00:00 AM',\n",
       "       '13-Mar-2016 08:00:00 AM', '13-Mar-2016 09:00:00 AM',\n",
       "       '13-Mar-2016 10:00:00 AM', '13-Mar-2016 11:00:00 AM',\n",
       "       '13-Mar-2016 12:00:00 PM', '13-Mar-2016 01:00:00 PM',\n",
       "       '13-Mar-2016 02:00:00 PM', '13-Mar-2016 03:00:00 PM',\n",
       "       '13-Mar-2016 04:00:00 PM', '13-Mar-2016 05:00:00 PM',\n",
       "       '13-Mar-2016 06:00:00 PM', '13-Mar-2016 07:00:00 PM',\n",
       "       '13-Mar-2016 08:00:00 PM', '13-Mar-2016 09:00:00 PM',\n",
       "       '13-Mar-2016 10:00:00 PM', '13-Mar-2016 11:00:00 PM',\n",
       "       '14-Mar-2016 12:00:00 AM', '14-Mar-2016 01:00:00 AM',\n",
       "       '14-Mar-2016 02:00:00 AM', '14-Mar-2016 03:00:00 AM',\n",
       "       '14-Mar-2016 04:00:00 AM', '14-Mar-2016 05:00:00 AM',\n",
       "       '14-Mar-2016 06:00:00 AM', '14-Mar-2016 07:00:00 AM',\n",
       "       '14-Mar-2016 08:00:00 AM', '14-Mar-2016 09:00:00 AM',\n",
       "       '14-Mar-2016 10:00:00 AM', '14-Mar-2016 11:00:00 AM',\n",
       "       '14-Mar-2016 12:00:00 PM', '14-Mar-2016 01:00:00 PM',\n",
       "       '14-Mar-2016 02:00:00 PM', '14-Mar-2016 03:00:00 PM'],\n",
       "      dtype='object', name='Updated time (America/Los_Angeles)')"
      ]
     },
     "execution_count": 164,
     "metadata": {},
     "output_type": "execute_result"
    }
   ],
   "source": [
    "test_predictions = scaler.inverse_transform(test_predictions_scaled)\n",
    "test_data_descaled = scaler.inverse_transform(test_data_scaled)\n",
    "train_data_descaled = scaler.inverse_transform(train_data_scaled)\n",
    "test_data.index"
   ]
  },
  {
   "cell_type": "code",
   "execution_count": 167,
   "id": "95132234-00be-416d-820e-3d5aa0a5915a",
   "metadata": {},
   "outputs": [
    {
     "data": {
      "image/png": "[encoded data removed]",
      "text/plain": [
       "<Figure size 640x480 with 1 Axes>"
      ]
     },
     "metadata": {},
     "output_type": "display_data"
    }
   ],
   "source": [
    "# Plot the results\n",
    "plt.plot(train_data.index, train_data_descaled, label = 'Training Data')\n",
    "plt.plot(test_data.index, test_data_descaled, label='Actual')\n",
    "plt.plot(test_data.index, test_predictions, label='Predicted')\n",
    "# plt.plot(train_data_scaled, label = 'Train')\n",
    "plt.legend()\n",
    "plt.savefig('Sequential.jpeg')\n",
    "plt.show()"
   ]
  },
  {
   "cell_type": "code",
   "execution_count": 155,
   "id": "f9f604dc-5125-4ba2-ae82-10e4c3b499b4",
   "metadata": {},
   "outputs": [
    {
     "name": "stdout",
     "output_type": "stream",
     "text": [
      "MAE: 11.185137652228855\n",
      "MSE: 239.57713896581527\n",
      "MAPE: 0.018486708714419976\n",
      "RSME: 15.478279586756898\n"
     ]
    }
   ],
   "source": [
    "mae = mean_absolute_error(test_data_descaled,test_predictions)\n",
    "mse = mean_squared_error(test_data_descaled,test_predictions)\n",
    "mape = mean_absolute_percentage_error(test_data_descaled,test_predictions)\n",
    "rmse = root_mean_squared_error(test_data_descaled,test_predictions)\n",
    "print(f'MAE: {mae}')\n",
    "print(f'MSE: {mse}')\n",
    "print(f'MAPE: {mape}')\n",
    "print(f'RSME: {rmse}')"
   ]
  },
  {
   "cell_type": "code",
   "execution_count": 84,
   "id": "e6ac8a21-59fe-4e20-8e37-241ff7707f80",
   "metadata": {},
   "outputs": [],
   "source": [
    "%store -r Models"
   ]
  },
  {
   "cell_type": "code",
   "execution_count": 86,
   "id": "a79732fa-80fe-49b4-97c7-f1d4f66b4e4f",
   "metadata": {},
   "outputs": [
    {
     "data": {
      "text/html": [
       "<div>\n",
       "<style scoped>\n",
       "    .dataframe tbody tr th:only-of-type {\n",
       "        vertical-align: middle;\n",
       "    }\n",
       "\n",
       "    .dataframe tbody tr th {\n",
       "        vertical-align: top;\n",
       "    }\n",
       "\n",
       "    .dataframe thead th {\n",
       "        text-align: right;\n",
       "    }\n",
       "</style>\n",
       "<table border=\"1\" class=\"dataframe\">\n",
       "  <thead>\n",
       "    <tr style=\"text-align: right;\">\n",
       "      <th></th>\n",
       "      <th>Model</th>\n",
       "      <th>MAE</th>\n",
       "      <th>MAPE</th>\n",
       "      <th>MSE</th>\n",
       "      <th>RMSE</th>\n",
       "    </tr>\n",
       "  </thead>\n",
       "  <tbody>\n",
       "    <tr>\n",
       "      <th>0</th>\n",
       "      <td>SARIMA</td>\n",
       "      <td>43.226426</td>\n",
       "      <td>0.073251</td>\n",
       "      <td>3196.550691</td>\n",
       "      <td>56.538046</td>\n",
       "    </tr>\n",
       "    <tr>\n",
       "      <th>1</th>\n",
       "      <td>ARIMA</td>\n",
       "      <td>28.428438373739624</td>\n",
       "      <td>0.04635282210911343</td>\n",
       "      <td>1739.817423160859</td>\n",
       "      <td>41.711118699465004</td>\n",
       "    </tr>\n",
       "    <tr>\n",
       "      <th>2</th>\n",
       "      <td>Prophet</td>\n",
       "      <td>18.35296947316519</td>\n",
       "      <td>0.03107661982469522</td>\n",
       "      <td>544.2415815991504</td>\n",
       "      <td>23.32898586735288</td>\n",
       "    </tr>\n",
       "  </tbody>\n",
       "</table>\n",
       "</div>"
      ],
      "text/plain": [
       "     Model                 MAE                 MAPE                MSE  \\\n",
       "0   SARIMA           43.226426             0.073251        3196.550691   \n",
       "1    ARIMA  28.428438373739624  0.04635282210911343  1739.817423160859   \n",
       "2  Prophet   18.35296947316519  0.03107661982469522  544.2415815991504   \n",
       "\n",
       "                 RMSE  \n",
       "0           56.538046  \n",
       "1  41.711118699465004  \n",
       "2   23.32898586735288  "
      ]
     },
     "execution_count": 86,
     "metadata": {},
     "output_type": "execute_result"
    }
   ],
   "source": [
    "Models"
   ]
  },
  {
   "cell_type": "code",
   "execution_count": 116,
   "id": "addc03bf-c206-4e91-a1dc-1bc65b090c56",
   "metadata": {},
   "outputs": [],
   "source": [
    "Models.loc[3] = ['Sequential', '4.567376206341909', '0.007501287741478644', '41.98243700601323', '6.479385542319058']"
   ]
  },
  {
   "cell_type": "code",
   "execution_count": 117,
   "id": "43ec0452-4c02-4b2f-b3f4-f75450b239db",
   "metadata": {},
   "outputs": [
    {
     "data": {
      "text/html": [
       "<div>\n",
       "<style scoped>\n",
       "    .dataframe tbody tr th:only-of-type {\n",
       "        vertical-align: middle;\n",
       "    }\n",
       "\n",
       "    .dataframe tbody tr th {\n",
       "        vertical-align: top;\n",
       "    }\n",
       "\n",
       "    .dataframe thead th {\n",
       "        text-align: right;\n",
       "    }\n",
       "</style>\n",
       "<table border=\"1\" class=\"dataframe\">\n",
       "  <thead>\n",
       "    <tr style=\"text-align: right;\">\n",
       "      <th></th>\n",
       "      <th>Model</th>\n",
       "      <th>MAE</th>\n",
       "      <th>MAPE</th>\n",
       "      <th>MSE</th>\n",
       "      <th>RMSE</th>\n",
       "    </tr>\n",
       "  </thead>\n",
       "  <tbody>\n",
       "    <tr>\n",
       "      <th>0</th>\n",
       "      <td>SARIMA</td>\n",
       "      <td>43.226426</td>\n",
       "      <td>0.073251</td>\n",
       "      <td>3196.550691</td>\n",
       "      <td>56.538046</td>\n",
       "    </tr>\n",
       "    <tr>\n",
       "      <th>1</th>\n",
       "      <td>ARIMA</td>\n",
       "      <td>28.428438373739624</td>\n",
       "      <td>0.04635282210911343</td>\n",
       "      <td>1739.817423160859</td>\n",
       "      <td>41.711118699465004</td>\n",
       "    </tr>\n",
       "    <tr>\n",
       "      <th>2</th>\n",
       "      <td>Prophet</td>\n",
       "      <td>18.35296947316519</td>\n",
       "      <td>0.03107661982469522</td>\n",
       "      <td>544.2415815991504</td>\n",
       "      <td>23.32898586735288</td>\n",
       "    </tr>\n",
       "    <tr>\n",
       "      <th>3</th>\n",
       "      <td>Sequential</td>\n",
       "      <td>4.567376206341909</td>\n",
       "      <td>0.007501287741478644</td>\n",
       "      <td>41.98243700601323</td>\n",
       "      <td>6.479385542319058</td>\n",
       "    </tr>\n",
       "  </tbody>\n",
       "</table>\n",
       "</div>"
      ],
      "text/plain": [
       "        Model                 MAE                  MAPE                MSE  \\\n",
       "0      SARIMA           43.226426              0.073251        3196.550691   \n",
       "1       ARIMA  28.428438373739624   0.04635282210911343  1739.817423160859   \n",
       "2     Prophet   18.35296947316519   0.03107661982469522  544.2415815991504   \n",
       "3  Sequential   4.567376206341909  0.007501287741478644  41.98243700601323   \n",
       "\n",
       "                 RMSE  \n",
       "0           56.538046  \n",
       "1  41.711118699465004  \n",
       "2   23.32898586735288  \n",
       "3   6.479385542319058  "
      ]
     },
     "execution_count": 117,
     "metadata": {},
     "output_type": "execute_result"
    }
   ],
   "source": [
    "Models"
   ]
  },
  {
   "cell_type": "code",
   "execution_count": 118,
   "id": "9709d480-3b03-4004-951b-ef3e667689fa",
   "metadata": {},
   "outputs": [
    {
     "name": "stdout",
     "output_type": "stream",
     "text": [
      "Stored 'Models' (DataFrame)\n"
     ]
    }
   ],
   "source": [
    "%store Models"
   ]
  },
  {
   "cell_type": "code",
   "execution_count": 170,
   "id": "a99a1aab-9df9-4488-bcf1-3baa65463a55",
   "metadata": {},
   "outputs": [
    {
     "data": {
      "text/html": [
       "<div>\n",
       "<style scoped>\n",
       "    .dataframe tbody tr th:only-of-type {\n",
       "        vertical-align: middle;\n",
       "    }\n",
       "\n",
       "    .dataframe tbody tr th {\n",
       "        vertical-align: top;\n",
       "    }\n",
       "\n",
       "    .dataframe thead th {\n",
       "        text-align: right;\n",
       "    }\n",
       "</style>\n",
       "<table border=\"1\" class=\"dataframe\">\n",
       "  <thead>\n",
       "    <tr style=\"text-align: right;\">\n",
       "      <th></th>\n",
       "      <th>Model</th>\n",
       "      <th>MAE</th>\n",
       "      <th>MAPE</th>\n",
       "      <th>MSE</th>\n",
       "      <th>RMSE</th>\n",
       "    </tr>\n",
       "  </thead>\n",
       "  <tbody>\n",
       "    <tr>\n",
       "      <th>0</th>\n",
       "      <td>SARIMA</td>\n",
       "      <td>43.226426</td>\n",
       "      <td>0.073251</td>\n",
       "      <td>3196.550691</td>\n",
       "      <td>56.538046</td>\n",
       "    </tr>\n",
       "    <tr>\n",
       "      <th>1</th>\n",
       "      <td>ARIMA</td>\n",
       "      <td>28.428438373739624</td>\n",
       "      <td>0.04635282210911343</td>\n",
       "      <td>1739.817423160859</td>\n",
       "      <td>41.711118699465004</td>\n",
       "    </tr>\n",
       "    <tr>\n",
       "      <th>2</th>\n",
       "      <td>Prophet</td>\n",
       "      <td>18.35296947316519</td>\n",
       "      <td>0.03107661982469522</td>\n",
       "      <td>544.2415815991504</td>\n",
       "      <td>23.32898586735288</td>\n",
       "    </tr>\n",
       "    <tr>\n",
       "      <th>3</th>\n",
       "      <td>Sequential</td>\n",
       "      <td>4.567376206341909</td>\n",
       "      <td>0.007501287741478644</td>\n",
       "      <td>41.98243700601323</td>\n",
       "      <td>6.479385542319058</td>\n",
       "    </tr>\n",
       "  </tbody>\n",
       "</table>\n",
       "</div>"
      ],
      "text/plain": [
       "        Model                 MAE                  MAPE                MSE  \\\n",
       "0      SARIMA           43.226426              0.073251        3196.550691   \n",
       "1       ARIMA  28.428438373739624   0.04635282210911343  1739.817423160859   \n",
       "2     Prophet   18.35296947316519   0.03107661982469522  544.2415815991504   \n",
       "3  Sequential   4.567376206341909  0.007501287741478644  41.98243700601323   \n",
       "\n",
       "                 RMSE  \n",
       "0           56.538046  \n",
       "1  41.711118699465004  \n",
       "2   23.32898586735288  \n",
       "3   6.479385542319058  "
      ]
     },
     "execution_count": 170,
     "metadata": {},
     "output_type": "execute_result"
    }
   ],
   "source": [
    "%store -r Models\n",
    "Models"
   ]
  },
  {
   "cell_type": "code",
   "execution_count": 171,
   "id": "bb8d7826-0dcf-4eb5-a895-7068c0e40e32",
   "metadata": {},
   "outputs": [],
   "source": [
    "Models.loc[0,'Model'] = 'ARIMA'"
   ]
  },
  {
   "cell_type": "code",
   "execution_count": 172,
   "id": "2d6b7b73-e772-44bc-bb7c-5596bc800f5d",
   "metadata": {},
   "outputs": [
    {
     "data": {
      "text/html": [
       "<div>\n",
       "<style scoped>\n",
       "    .dataframe tbody tr th:only-of-type {\n",
       "        vertical-align: middle;\n",
       "    }\n",
       "\n",
       "    .dataframe tbody tr th {\n",
       "        vertical-align: top;\n",
       "    }\n",
       "\n",
       "    .dataframe thead th {\n",
       "        text-align: right;\n",
       "    }\n",
       "</style>\n",
       "<table border=\"1\" class=\"dataframe\">\n",
       "  <thead>\n",
       "    <tr style=\"text-align: right;\">\n",
       "      <th></th>\n",
       "      <th>Model</th>\n",
       "      <th>MAE</th>\n",
       "      <th>MAPE</th>\n",
       "      <th>MSE</th>\n",
       "      <th>RMSE</th>\n",
       "    </tr>\n",
       "  </thead>\n",
       "  <tbody>\n",
       "    <tr>\n",
       "      <th>0</th>\n",
       "      <td>ARIMA</td>\n",
       "      <td>43.226426</td>\n",
       "      <td>0.073251</td>\n",
       "      <td>3196.550691</td>\n",
       "      <td>56.538046</td>\n",
       "    </tr>\n",
       "    <tr>\n",
       "      <th>1</th>\n",
       "      <td>ARIMA</td>\n",
       "      <td>28.428438373739624</td>\n",
       "      <td>0.04635282210911343</td>\n",
       "      <td>1739.817423160859</td>\n",
       "      <td>41.711118699465004</td>\n",
       "    </tr>\n",
       "    <tr>\n",
       "      <th>2</th>\n",
       "      <td>Prophet</td>\n",
       "      <td>18.35296947316519</td>\n",
       "      <td>0.03107661982469522</td>\n",
       "      <td>544.2415815991504</td>\n",
       "      <td>23.32898586735288</td>\n",
       "    </tr>\n",
       "    <tr>\n",
       "      <th>3</th>\n",
       "      <td>Sequential</td>\n",
       "      <td>4.567376206341909</td>\n",
       "      <td>0.007501287741478644</td>\n",
       "      <td>41.98243700601323</td>\n",
       "      <td>6.479385542319058</td>\n",
       "    </tr>\n",
       "  </tbody>\n",
       "</table>\n",
       "</div>"
      ],
      "text/plain": [
       "        Model                 MAE                  MAPE                MSE  \\\n",
       "0       ARIMA           43.226426              0.073251        3196.550691   \n",
       "1       ARIMA  28.428438373739624   0.04635282210911343  1739.817423160859   \n",
       "2     Prophet   18.35296947316519   0.03107661982469522  544.2415815991504   \n",
       "3  Sequential   4.567376206341909  0.007501287741478644  41.98243700601323   \n",
       "\n",
       "                 RMSE  \n",
       "0           56.538046  \n",
       "1  41.711118699465004  \n",
       "2   23.32898586735288  \n",
       "3   6.479385542319058  "
      ]
     },
     "execution_count": 172,
     "metadata": {},
     "output_type": "execute_result"
    }
   ],
   "source": [
    "Models"
   ]
  },
  {
   "cell_type": "code",
   "execution_count": 173,
   "id": "2218aabf-0a6d-471f-b686-18499e32a4a1",
   "metadata": {},
   "outputs": [],
   "source": [
    "Models.loc[1, 'Model'] = 'SARIMA'"
   ]
  },
  {
   "cell_type": "code",
   "execution_count": 174,
   "id": "9306c76e-684c-446a-a4b3-53e78ce11297",
   "metadata": {},
   "outputs": [
    {
     "data": {
      "text/html": [
       "<div>\n",
       "<style scoped>\n",
       "    .dataframe tbody tr th:only-of-type {\n",
       "        vertical-align: middle;\n",
       "    }\n",
       "\n",
       "    .dataframe tbody tr th {\n",
       "        vertical-align: top;\n",
       "    }\n",
       "\n",
       "    .dataframe thead th {\n",
       "        text-align: right;\n",
       "    }\n",
       "</style>\n",
       "<table border=\"1\" class=\"dataframe\">\n",
       "  <thead>\n",
       "    <tr style=\"text-align: right;\">\n",
       "      <th></th>\n",
       "      <th>Model</th>\n",
       "      <th>MAE</th>\n",
       "      <th>MAPE</th>\n",
       "      <th>MSE</th>\n",
       "      <th>RMSE</th>\n",
       "    </tr>\n",
       "  </thead>\n",
       "  <tbody>\n",
       "    <tr>\n",
       "      <th>0</th>\n",
       "      <td>ARIMA</td>\n",
       "      <td>43.226426</td>\n",
       "      <td>0.073251</td>\n",
       "      <td>3196.550691</td>\n",
       "      <td>56.538046</td>\n",
       "    </tr>\n",
       "    <tr>\n",
       "      <th>1</th>\n",
       "      <td>SARIMA</td>\n",
       "      <td>28.428438373739624</td>\n",
       "      <td>0.04635282210911343</td>\n",
       "      <td>1739.817423160859</td>\n",
       "      <td>41.711118699465004</td>\n",
       "    </tr>\n",
       "    <tr>\n",
       "      <th>2</th>\n",
       "      <td>Prophet</td>\n",
       "      <td>18.35296947316519</td>\n",
       "      <td>0.03107661982469522</td>\n",
       "      <td>544.2415815991504</td>\n",
       "      <td>23.32898586735288</td>\n",
       "    </tr>\n",
       "    <tr>\n",
       "      <th>3</th>\n",
       "      <td>Sequential</td>\n",
       "      <td>4.567376206341909</td>\n",
       "      <td>0.007501287741478644</td>\n",
       "      <td>41.98243700601323</td>\n",
       "      <td>6.479385542319058</td>\n",
       "    </tr>\n",
       "  </tbody>\n",
       "</table>\n",
       "</div>"
      ],
      "text/plain": [
       "        Model                 MAE                  MAPE                MSE  \\\n",
       "0       ARIMA           43.226426              0.073251        3196.550691   \n",
       "1      SARIMA  28.428438373739624   0.04635282210911343  1739.817423160859   \n",
       "2     Prophet   18.35296947316519   0.03107661982469522  544.2415815991504   \n",
       "3  Sequential   4.567376206341909  0.007501287741478644  41.98243700601323   \n",
       "\n",
       "                 RMSE  \n",
       "0           56.538046  \n",
       "1  41.711118699465004  \n",
       "2   23.32898586735288  \n",
       "3   6.479385542319058  "
      ]
     },
     "execution_count": 174,
     "metadata": {},
     "output_type": "execute_result"
    }
   ],
   "source": [
    "Models"
   ]
  },
  {
   "cell_type": "code",
   "execution_count": 176,
   "id": "74be7027-c765-4bd4-bebf-6e8a269abe51",
   "metadata": {},
   "outputs": [],
   "source": [
    "Models.to_csv('Models.csv')"
   ]
  },
  {
   "cell_type": "code",
   "execution_count": 177,
   "id": "15a01fd9-6f68-4c55-bbad-286476945dd1",
   "metadata": {},
   "outputs": [
    {
     "name": "stdout",
     "output_type": "stream",
     "text": [
      "Stored 'Models' (DataFrame)\n"
     ]
    }
   ],
   "source": [
    "%store Models"
   ]
  },
  {
   "cell_type": "code",
   "execution_count": null,
   "id": "a16332ff-cf9d-4d14-9526-c59738f5f79b",
   "metadata": {},
   "outputs": [],
   "source": []
  }
 ],
 "metadata": {
  "kernelspec": {
   "display_name": "Python 3 (ipykernel)",
   "language": "python",
   "name": "python3"
  },
  "language_info": {
   "codemirror_mode": {
    "name": "ipython",
    "version": 3
   },
   "file_extension": ".py",
   "mimetype": "text/x-python",
   "name": "python",
   "nbconvert_exporter": "python",
   "pygments_lexer": "ipython3",
   "version": "3.11.8"
  }
 },
 "nbformat": 4,
 "nbformat_minor": 5
}
