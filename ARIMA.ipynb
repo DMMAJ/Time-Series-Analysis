{
 "cells": [
  {
   "cell_type": "code",
   "execution_count": 1,
   "id": "3791b835-dc3d-4d98-b12a-906b4bb85c7c",
   "metadata": {},
   "outputs": [],
   "source": [
    "import pandas as pd\n",
    "import matplotlib.pyplot as plt\n",
    "import seaborn as sns\n",
    "from statsmodels.tsa.seasonal import seasonal_decompose"
   ]
  },
  {
   "cell_type": "code",
   "execution_count": 13,
   "id": "4837e1f3-0345-4055-acae-bfd20fb5229e",
   "metadata": {},
   "outputs": [
    {
     "data": {
      "text/html": [
       "<div>\n",
       "<style scoped>\n",
       "    .dataframe tbody tr th:only-of-type {\n",
       "        vertical-align: middle;\n",
       "    }\n",
       "\n",
       "    .dataframe tbody tr th {\n",
       "        vertical-align: top;\n",
       "    }\n",
       "\n",
       "    .dataframe thead th {\n",
       "        text-align: right;\n",
       "    }\n",
       "</style>\n",
       "<table border=\"1\" class=\"dataframe\">\n",
       "  <thead>\n",
       "    <tr style=\"text-align: right;\">\n",
       "      <th></th>\n",
       "      <th>Device Name</th>\n",
       "      <th>Instance Name</th>\n",
       "      <th>Updated time (America/Los_Angeles)</th>\n",
       "      <th>Packet Rate</th>\n",
       "    </tr>\n",
       "  </thead>\n",
       "  <tbody>\n",
       "    <tr>\n",
       "      <th>0</th>\n",
       "      <td>csn501</td>\n",
       "      <td>network.interface.packets.in</td>\n",
       "      <td>07-Mar-2016 04:00:00 PM</td>\n",
       "      <td>559.27</td>\n",
       "    </tr>\n",
       "    <tr>\n",
       "      <th>1</th>\n",
       "      <td>csn501</td>\n",
       "      <td>network.interface.packets.in</td>\n",
       "      <td>07-Mar-2016 05:00:00 PM</td>\n",
       "      <td>564.02</td>\n",
       "    </tr>\n",
       "    <tr>\n",
       "      <th>2</th>\n",
       "      <td>csn501</td>\n",
       "      <td>network.interface.packets.in</td>\n",
       "      <td>07-Mar-2016 06:00:00 PM</td>\n",
       "      <td>580.97</td>\n",
       "    </tr>\n",
       "    <tr>\n",
       "      <th>3</th>\n",
       "      <td>csn501</td>\n",
       "      <td>network.interface.packets.in</td>\n",
       "      <td>07-Mar-2016 07:00:00 PM</td>\n",
       "      <td>565.64</td>\n",
       "    </tr>\n",
       "    <tr>\n",
       "      <th>4</th>\n",
       "      <td>csn501</td>\n",
       "      <td>network.interface.packets.in</td>\n",
       "      <td>07-Mar-2016 08:00:00 PM</td>\n",
       "      <td>549.09</td>\n",
       "    </tr>\n",
       "    <tr>\n",
       "      <th>...</th>\n",
       "      <td>...</td>\n",
       "      <td>...</td>\n",
       "      <td>...</td>\n",
       "      <td>...</td>\n",
       "    </tr>\n",
       "    <tr>\n",
       "      <th>329</th>\n",
       "      <td>csn501</td>\n",
       "      <td>network.interface.packets.out</td>\n",
       "      <td>14-Mar-2016 11:00:00 AM</td>\n",
       "      <td>786.27</td>\n",
       "    </tr>\n",
       "    <tr>\n",
       "      <th>330</th>\n",
       "      <td>csn501</td>\n",
       "      <td>network.interface.packets.out</td>\n",
       "      <td>14-Mar-2016 12:00:00 PM</td>\n",
       "      <td>767.67</td>\n",
       "    </tr>\n",
       "    <tr>\n",
       "      <th>331</th>\n",
       "      <td>csn501</td>\n",
       "      <td>network.interface.packets.out</td>\n",
       "      <td>14-Mar-2016 01:00:00 PM</td>\n",
       "      <td>782.03</td>\n",
       "    </tr>\n",
       "    <tr>\n",
       "      <th>332</th>\n",
       "      <td>csn501</td>\n",
       "      <td>network.interface.packets.out</td>\n",
       "      <td>14-Mar-2016 02:00:00 PM</td>\n",
       "      <td>831.24</td>\n",
       "    </tr>\n",
       "    <tr>\n",
       "      <th>333</th>\n",
       "      <td>csn501</td>\n",
       "      <td>network.interface.packets.out</td>\n",
       "      <td>14-Mar-2016 03:00:00 PM</td>\n",
       "      <td>873.30</td>\n",
       "    </tr>\n",
       "  </tbody>\n",
       "</table>\n",
       "<p>334 rows × 4 columns</p>\n",
       "</div>"
      ],
      "text/plain": [
       "    Device Name                  Instance Name  \\\n",
       "0        csn501   network.interface.packets.in   \n",
       "1        csn501   network.interface.packets.in   \n",
       "2        csn501   network.interface.packets.in   \n",
       "3        csn501   network.interface.packets.in   \n",
       "4        csn501   network.interface.packets.in   \n",
       "..          ...                            ...   \n",
       "329      csn501  network.interface.packets.out   \n",
       "330      csn501  network.interface.packets.out   \n",
       "331      csn501  network.interface.packets.out   \n",
       "332      csn501  network.interface.packets.out   \n",
       "333      csn501  network.interface.packets.out   \n",
       "\n",
       "    Updated time (America/Los_Angeles)  Packet Rate  \n",
       "0              07-Mar-2016 04:00:00 PM       559.27  \n",
       "1              07-Mar-2016 05:00:00 PM       564.02  \n",
       "2              07-Mar-2016 06:00:00 PM       580.97  \n",
       "3              07-Mar-2016 07:00:00 PM       565.64  \n",
       "4              07-Mar-2016 08:00:00 PM       549.09  \n",
       "..                                 ...          ...  \n",
       "329            14-Mar-2016 11:00:00 AM       786.27  \n",
       "330            14-Mar-2016 12:00:00 PM       767.67  \n",
       "331            14-Mar-2016 01:00:00 PM       782.03  \n",
       "332            14-Mar-2016 02:00:00 PM       831.24  \n",
       "333            14-Mar-2016 03:00:00 PM       873.30  \n",
       "\n",
       "[334 rows x 4 columns]"
      ]
     },
     "execution_count": 13,
     "metadata": {},
     "output_type": "execute_result"
    }
   ],
   "source": [
    "df=pd.read_csv('2.csv')\n",
    "df"
   ]
  },
  {
   "cell_type": "code",
   "execution_count": 14,
   "id": "e4521070-e949-4dfc-8652-988be6427893",
   "metadata": {},
   "outputs": [
    {
     "name": "stderr",
     "output_type": "stream",
     "text": [
      "/var/folders/t1/80nmj049513cmg5r1hr_2tpc0000gp/T/ipykernel_84123/95489933.py:2: UserWarning:\n",
      "\n",
      "Could not infer format, so each element will be parsed individually, falling back to `dateutil`. To ensure parsing is consistent and as-expected, please specify a format.\n",
      "\n"
     ]
    }
   ],
   "source": [
    "df.rename(columns={'Updated time (America/Los_Angeles)':'Updated_time'}, inplace=True)\n",
    "df['Updated_time'] = pd.to_datetime(df['Updated_time'])\n",
    "df.set_index('Updated_time',inplace = True)\n",
    "data=df[df['Instance Name'] == 'network.interface.packets.in']\n"
   ]
  },
  {
   "cell_type": "code",
   "execution_count": 15,
   "id": "f631cfac-6d53-483d-b34a-3c2a91997981",
   "metadata": {},
   "outputs": [
    {
     "name": "stderr",
     "output_type": "stream",
     "text": [
      "/opt/anaconda3/lib/python3.11/site-packages/seaborn/_oldcore.py:1119: FutureWarning:\n",
      "\n",
      "use_inf_as_na option is deprecated and will be removed in a future version. Convert inf values to NaN before operating instead.\n",
      "\n",
      "/opt/anaconda3/lib/python3.11/site-packages/seaborn/_oldcore.py:1119: FutureWarning:\n",
      "\n",
      "use_inf_as_na option is deprecated and will be removed in a future version. Convert inf values to NaN before operating instead.\n",
      "\n"
     ]
    },
    {
     "data": {
      "image/png": "[encoded data removed]",
      "text/plain": [
       "<Figure size 1000x600 with 1 Axes>"
      ]
     },
     "metadata": {},
     "output_type": "display_data"
    }
   ],
   "source": [
    "def plot (df:pd.DataFrame, y:str):\n",
    "    plt.figure(figsize=(10,6))\n",
    "    # plt.plot(data.index,data['Packet Rate'])\n",
    "    sns.lineplot(x=df.index,y=y,data=df,color='blue')\n",
    "    plt.title('Packet Rate Flow')\n",
    "    plt.xlabel('Time')\n",
    "    plt.ylabel('Packet Rate')\n",
    "    # plt.grid(True)\n",
    "    plt.show()\n",
    "\n",
    "plot(df=data, y='Packet Rate')"
   ]
  },
  {
   "cell_type": "code",
   "execution_count": 16,
   "id": "81ac182d-d224-4b86-9789-b4bac78f43ea",
   "metadata": {},
   "outputs": [
    {
     "name": "stderr",
     "output_type": "stream",
     "text": [
      "/var/folders/t1/80nmj049513cmg5r1hr_2tpc0000gp/T/ipykernel_84123/109673885.py:5: SettingWithCopyWarning:\n",
      "\n",
      "\n",
      "A value is trying to be set on a copy of a slice from a DataFrame.\n",
      "Try using .loc[row_indexer,col_indexer] = value instead\n",
      "\n",
      "See the caveats in the documentation: https://pandas.pydata.org/pandas-docs/stable/user_guide/indexing.html#returning-a-view-versus-a-copy\n",
      "\n",
      "/opt/anaconda3/lib/python3.11/site-packages/seaborn/_oldcore.py:1119: FutureWarning:\n",
      "\n",
      "use_inf_as_na option is deprecated and will be removed in a future version. Convert inf values to NaN before operating instead.\n",
      "\n",
      "/opt/anaconda3/lib/python3.11/site-packages/seaborn/_oldcore.py:1119: FutureWarning:\n",
      "\n",
      "use_inf_as_na option is deprecated and will be removed in a future version. Convert inf values to NaN before operating instead.\n",
      "\n"
     ]
    },
    {
     "data": {
      "image/png": "[encoded data removed]",
      "text/plain": [
       "<Figure size 1000x600 with 1 Axes>"
      ]
     },
     "metadata": {},
     "output_type": "display_data"
    }
   ],
   "source": [
    "# No need of boxcox as there is no trend\n",
    "\n",
    "from scipy.stats import boxcox\n",
    "# Make the target variance stationary\n",
    "data['P_R_Boxcox'], lam = boxcox(data['Packet Rate'])\n",
    "# Plot the box-cox passenger data\n",
    "plot(df=data, y='P_R_Boxcox')"
   ]
  },
  {
   "cell_type": "code",
   "execution_count": 17,
   "id": "96f04dc2-79e0-4266-9dcf-dcd6540f8e11",
   "metadata": {},
   "outputs": [
    {
     "name": "stderr",
     "output_type": "stream",
     "text": [
      "/var/folders/t1/80nmj049513cmg5r1hr_2tpc0000gp/T/ipykernel_84123/3548987852.py:1: SettingWithCopyWarning:\n",
      "\n",
      "\n",
      "A value is trying to be set on a copy of a slice from a DataFrame.\n",
      "Try using .loc[row_indexer,col_indexer] = value instead\n",
      "\n",
      "See the caveats in the documentation: https://pandas.pydata.org/pandas-docs/stable/user_guide/indexing.html#returning-a-view-versus-a-copy\n",
      "\n",
      "/var/folders/t1/80nmj049513cmg5r1hr_2tpc0000gp/T/ipykernel_84123/3548987852.py:4: SettingWithCopyWarning:\n",
      "\n",
      "\n",
      "A value is trying to be set on a copy of a slice from a DataFrame\n",
      "\n",
      "See the caveats in the documentation: https://pandas.pydata.org/pandas-docs/stable/user_guide/indexing.html#returning-a-view-versus-a-copy\n",
      "\n"
     ]
    },
    {
     "data": {
      "text/html": [
       "<div>\n",
       "<style scoped>\n",
       "    .dataframe tbody tr th:only-of-type {\n",
       "        vertical-align: middle;\n",
       "    }\n",
       "\n",
       "    .dataframe tbody tr th {\n",
       "        vertical-align: top;\n",
       "    }\n",
       "\n",
       "    .dataframe thead th {\n",
       "        text-align: right;\n",
       "    }\n",
       "</style>\n",
       "<table border=\"1\" class=\"dataframe\">\n",
       "  <thead>\n",
       "    <tr style=\"text-align: right;\">\n",
       "      <th></th>\n",
       "      <th>Device Name</th>\n",
       "      <th>Instance Name</th>\n",
       "      <th>Packet Rate</th>\n",
       "      <th>P_R_Boxcox</th>\n",
       "      <th>P_R_diff</th>\n",
       "    </tr>\n",
       "    <tr>\n",
       "      <th>Updated_time</th>\n",
       "      <th></th>\n",
       "      <th></th>\n",
       "      <th></th>\n",
       "      <th></th>\n",
       "      <th></th>\n",
       "    </tr>\n",
       "  </thead>\n",
       "  <tbody>\n",
       "    <tr>\n",
       "      <th>2016-03-07 16:00:00</th>\n",
       "      <td>csn501</td>\n",
       "      <td>network.interface.packets.in</td>\n",
       "      <td>559.27</td>\n",
       "      <td>294.927986</td>\n",
       "      <td>0.000000</td>\n",
       "    </tr>\n",
       "    <tr>\n",
       "      <th>2016-03-07 17:00:00</th>\n",
       "      <td>csn501</td>\n",
       "      <td>network.interface.packets.in</td>\n",
       "      <td>564.02</td>\n",
       "      <td>297.137385</td>\n",
       "      <td>2.209399</td>\n",
       "    </tr>\n",
       "    <tr>\n",
       "      <th>2016-03-07 18:00:00</th>\n",
       "      <td>csn501</td>\n",
       "      <td>network.interface.packets.in</td>\n",
       "      <td>580.97</td>\n",
       "      <td>305.003268</td>\n",
       "      <td>7.865883</td>\n",
       "    </tr>\n",
       "    <tr>\n",
       "      <th>2016-03-07 19:00:00</th>\n",
       "      <td>csn501</td>\n",
       "      <td>network.interface.packets.in</td>\n",
       "      <td>565.64</td>\n",
       "      <td>297.890391</td>\n",
       "      <td>-7.112877</td>\n",
       "    </tr>\n",
       "    <tr>\n",
       "      <th>2016-03-07 20:00:00</th>\n",
       "      <td>csn501</td>\n",
       "      <td>network.interface.packets.in</td>\n",
       "      <td>549.09</td>\n",
       "      <td>290.185222</td>\n",
       "      <td>-7.705169</td>\n",
       "    </tr>\n",
       "    <tr>\n",
       "      <th>...</th>\n",
       "      <td>...</td>\n",
       "      <td>...</td>\n",
       "      <td>...</td>\n",
       "      <td>...</td>\n",
       "      <td>...</td>\n",
       "    </tr>\n",
       "    <tr>\n",
       "      <th>2016-03-14 11:00:00</th>\n",
       "      <td>csn501</td>\n",
       "      <td>network.interface.packets.in</td>\n",
       "      <td>576.76</td>\n",
       "      <td>303.052180</td>\n",
       "      <td>7.542554</td>\n",
       "    </tr>\n",
       "    <tr>\n",
       "      <th>2016-03-14 12:00:00</th>\n",
       "      <td>csn501</td>\n",
       "      <td>network.interface.packets.in</td>\n",
       "      <td>569.96</td>\n",
       "      <td>299.897135</td>\n",
       "      <td>-3.155046</td>\n",
       "    </tr>\n",
       "    <tr>\n",
       "      <th>2016-03-14 13:00:00</th>\n",
       "      <td>csn501</td>\n",
       "      <td>network.interface.packets.in</td>\n",
       "      <td>573.23</td>\n",
       "      <td>301.414905</td>\n",
       "      <td>1.517770</td>\n",
       "    </tr>\n",
       "    <tr>\n",
       "      <th>2016-03-14 14:00:00</th>\n",
       "      <td>csn501</td>\n",
       "      <td>network.interface.packets.in</td>\n",
       "      <td>607.92</td>\n",
       "      <td>317.453112</td>\n",
       "      <td>16.038207</td>\n",
       "    </tr>\n",
       "    <tr>\n",
       "      <th>2016-03-14 15:00:00</th>\n",
       "      <td>csn501</td>\n",
       "      <td>network.interface.packets.in</td>\n",
       "      <td>674.72</td>\n",
       "      <td>348.031727</td>\n",
       "      <td>30.578616</td>\n",
       "    </tr>\n",
       "  </tbody>\n",
       "</table>\n",
       "<p>167 rows × 5 columns</p>\n",
       "</div>"
      ],
      "text/plain": [
       "                    Device Name                 Instance Name  Packet Rate  \\\n",
       "Updated_time                                                                 \n",
       "2016-03-07 16:00:00      csn501  network.interface.packets.in       559.27   \n",
       "2016-03-07 17:00:00      csn501  network.interface.packets.in       564.02   \n",
       "2016-03-07 18:00:00      csn501  network.interface.packets.in       580.97   \n",
       "2016-03-07 19:00:00      csn501  network.interface.packets.in       565.64   \n",
       "2016-03-07 20:00:00      csn501  network.interface.packets.in       549.09   \n",
       "...                         ...                           ...          ...   \n",
       "2016-03-14 11:00:00      csn501  network.interface.packets.in       576.76   \n",
       "2016-03-14 12:00:00      csn501  network.interface.packets.in       569.96   \n",
       "2016-03-14 13:00:00      csn501  network.interface.packets.in       573.23   \n",
       "2016-03-14 14:00:00      csn501  network.interface.packets.in       607.92   \n",
       "2016-03-14 15:00:00      csn501  network.interface.packets.in       674.72   \n",
       "\n",
       "                     P_R_Boxcox   P_R_diff  \n",
       "Updated_time                                \n",
       "2016-03-07 16:00:00  294.927986   0.000000  \n",
       "2016-03-07 17:00:00  297.137385   2.209399  \n",
       "2016-03-07 18:00:00  305.003268   7.865883  \n",
       "2016-03-07 19:00:00  297.890391  -7.112877  \n",
       "2016-03-07 20:00:00  290.185222  -7.705169  \n",
       "...                         ...        ...  \n",
       "2016-03-14 11:00:00  303.052180   7.542554  \n",
       "2016-03-14 12:00:00  299.897135  -3.155046  \n",
       "2016-03-14 13:00:00  301.414905   1.517770  \n",
       "2016-03-14 14:00:00  317.453112  16.038207  \n",
       "2016-03-14 15:00:00  348.031727  30.578616  \n",
       "\n",
       "[167 rows x 5 columns]"
      ]
     },
     "execution_count": 17,
     "metadata": {},
     "output_type": "execute_result"
    }
   ],
   "source": [
    "data[\"P_R_diff\"] = data[\"P_R_Boxcox\"].diff()\n",
    "# We can use dropna() as well as fillna() to counter null values in dataframe\n",
    "# data.dropna(inplace=True)\n",
    "data.fillna(0, inplace= True)\n",
    "data"
   ]
  },
  {
   "cell_type": "code",
   "execution_count": 18,
   "id": "9e4f1c42-625a-4a3e-81bc-375b2d6a8a6a",
   "metadata": {},
   "outputs": [
    {
     "data": {
      "image/png": "[encoded data removed]",
      "text/plain": [
       "<Figure size 640x480 with 1 Axes>"
      ]
     },
     "metadata": {},
     "output_type": "display_data"
    },
    {
     "data": {
      "image/png": "[encoded data removed]",
      "text/plain": [
       "<Figure size 640x480 with 1 Axes>"
      ]
     },
     "metadata": {},
     "output_type": "display_data"
    }
   ],
   "source": [
    "# Plot acf and pacf\n",
    "from statsmodels.graphics.tsaplots import plot_pacf, plot_acf\n",
    "# fig, (ax1, ax2) = plt.subplots(1, 2, figsize=(16,5), dpi=80)\n",
    "plot_acf(data['P_R_diff'])\n",
    "plot_pacf(data['P_R_diff'], method='ywm')\n",
    "# ax1.tick_params(axis='both', labelsize=12)\n",
    "# ax2.tick_params(axis='both', labelsize=12)\n",
    "plt.show()"
   ]
  },
  {
   "cell_type": "code",
   "execution_count": 19,
   "id": "c10602f7-bf04-475c-a330-ec8544310831",
   "metadata": {},
   "outputs": [
    {
     "data": {
      "text/html": [
       "<div>\n",
       "<style scoped>\n",
       "    .dataframe tbody tr th:only-of-type {\n",
       "        vertical-align: middle;\n",
       "    }\n",
       "\n",
       "    .dataframe tbody tr th {\n",
       "        vertical-align: top;\n",
       "    }\n",
       "\n",
       "    .dataframe thead th {\n",
       "        text-align: right;\n",
       "    }\n",
       "</style>\n",
       "<table border=\"1\" class=\"dataframe\">\n",
       "  <thead>\n",
       "    <tr style=\"text-align: right;\">\n",
       "      <th></th>\n",
       "      <th>Device Name</th>\n",
       "      <th>Instance Name</th>\n",
       "      <th>Packet Rate</th>\n",
       "      <th>P_R_Boxcox</th>\n",
       "      <th>P_R_diff</th>\n",
       "    </tr>\n",
       "    <tr>\n",
       "      <th>Updated_time</th>\n",
       "      <th></th>\n",
       "      <th></th>\n",
       "      <th></th>\n",
       "      <th></th>\n",
       "      <th></th>\n",
       "    </tr>\n",
       "  </thead>\n",
       "  <tbody>\n",
       "    <tr>\n",
       "      <th>2016-03-07 16:00:00</th>\n",
       "      <td>csn501</td>\n",
       "      <td>network.interface.packets.in</td>\n",
       "      <td>559.27</td>\n",
       "      <td>294.927986</td>\n",
       "      <td>0.000000</td>\n",
       "    </tr>\n",
       "    <tr>\n",
       "      <th>2016-03-07 17:00:00</th>\n",
       "      <td>csn501</td>\n",
       "      <td>network.interface.packets.in</td>\n",
       "      <td>564.02</td>\n",
       "      <td>297.137385</td>\n",
       "      <td>2.209399</td>\n",
       "    </tr>\n",
       "    <tr>\n",
       "      <th>2016-03-07 18:00:00</th>\n",
       "      <td>csn501</td>\n",
       "      <td>network.interface.packets.in</td>\n",
       "      <td>580.97</td>\n",
       "      <td>305.003268</td>\n",
       "      <td>7.865883</td>\n",
       "    </tr>\n",
       "    <tr>\n",
       "      <th>2016-03-07 19:00:00</th>\n",
       "      <td>csn501</td>\n",
       "      <td>network.interface.packets.in</td>\n",
       "      <td>565.64</td>\n",
       "      <td>297.890391</td>\n",
       "      <td>-7.112877</td>\n",
       "    </tr>\n",
       "    <tr>\n",
       "      <th>2016-03-07 20:00:00</th>\n",
       "      <td>csn501</td>\n",
       "      <td>network.interface.packets.in</td>\n",
       "      <td>549.09</td>\n",
       "      <td>290.185222</td>\n",
       "      <td>-7.705169</td>\n",
       "    </tr>\n",
       "    <tr>\n",
       "      <th>...</th>\n",
       "      <td>...</td>\n",
       "      <td>...</td>\n",
       "      <td>...</td>\n",
       "      <td>...</td>\n",
       "      <td>...</td>\n",
       "    </tr>\n",
       "    <tr>\n",
       "      <th>2016-03-13 01:00:00</th>\n",
       "      <td>csn501</td>\n",
       "      <td>network.interface.packets.in</td>\n",
       "      <td>569.63</td>\n",
       "      <td>299.743907</td>\n",
       "      <td>4.480877</td>\n",
       "    </tr>\n",
       "    <tr>\n",
       "      <th>2016-03-13 03:00:00</th>\n",
       "      <td>csn501</td>\n",
       "      <td>network.interface.packets.in</td>\n",
       "      <td>614.26</td>\n",
       "      <td>320.372148</td>\n",
       "      <td>20.628242</td>\n",
       "    </tr>\n",
       "    <tr>\n",
       "      <th>2016-03-13 04:00:00</th>\n",
       "      <td>csn501</td>\n",
       "      <td>network.interface.packets.in</td>\n",
       "      <td>565.40</td>\n",
       "      <td>297.778851</td>\n",
       "      <td>-22.593297</td>\n",
       "    </tr>\n",
       "    <tr>\n",
       "      <th>2016-03-13 05:00:00</th>\n",
       "      <td>csn501</td>\n",
       "      <td>network.interface.packets.in</td>\n",
       "      <td>559.25</td>\n",
       "      <td>294.918679</td>\n",
       "      <td>-2.860172</td>\n",
       "    </tr>\n",
       "    <tr>\n",
       "      <th>2016-03-13 06:00:00</th>\n",
       "      <td>csn501</td>\n",
       "      <td>network.interface.packets.in</td>\n",
       "      <td>548.51</td>\n",
       "      <td>289.914687</td>\n",
       "      <td>-5.003991</td>\n",
       "    </tr>\n",
       "  </tbody>\n",
       "</table>\n",
       "<p>134 rows × 5 columns</p>\n",
       "</div>"
      ],
      "text/plain": [
       "                    Device Name                 Instance Name  Packet Rate  \\\n",
       "Updated_time                                                                 \n",
       "2016-03-07 16:00:00      csn501  network.interface.packets.in       559.27   \n",
       "2016-03-07 17:00:00      csn501  network.interface.packets.in       564.02   \n",
       "2016-03-07 18:00:00      csn501  network.interface.packets.in       580.97   \n",
       "2016-03-07 19:00:00      csn501  network.interface.packets.in       565.64   \n",
       "2016-03-07 20:00:00      csn501  network.interface.packets.in       549.09   \n",
       "...                         ...                           ...          ...   \n",
       "2016-03-13 01:00:00      csn501  network.interface.packets.in       569.63   \n",
       "2016-03-13 03:00:00      csn501  network.interface.packets.in       614.26   \n",
       "2016-03-13 04:00:00      csn501  network.interface.packets.in       565.40   \n",
       "2016-03-13 05:00:00      csn501  network.interface.packets.in       559.25   \n",
       "2016-03-13 06:00:00      csn501  network.interface.packets.in       548.51   \n",
       "\n",
       "                     P_R_Boxcox   P_R_diff  \n",
       "Updated_time                                \n",
       "2016-03-07 16:00:00  294.927986   0.000000  \n",
       "2016-03-07 17:00:00  297.137385   2.209399  \n",
       "2016-03-07 18:00:00  305.003268   7.865883  \n",
       "2016-03-07 19:00:00  297.890391  -7.112877  \n",
       "2016-03-07 20:00:00  290.185222  -7.705169  \n",
       "...                         ...        ...  \n",
       "2016-03-13 01:00:00  299.743907   4.480877  \n",
       "2016-03-13 03:00:00  320.372148  20.628242  \n",
       "2016-03-13 04:00:00  297.778851 -22.593297  \n",
       "2016-03-13 05:00:00  294.918679  -2.860172  \n",
       "2016-03-13 06:00:00  289.914687  -5.003991  \n",
       "\n",
       "[134 rows x 5 columns]"
      ]
     },
     "execution_count": 19,
     "metadata": {},
     "output_type": "execute_result"
    }
   ],
   "source": [
    "train = data.iloc[:-int(len(data) * 0.2)]\n",
    "test = data.iloc[-int(len(data) * 0.2):]\n",
    "train"
   ]
  },
  {
   "cell_type": "code",
   "execution_count": 22,
   "id": "3d1f2dd9-4398-4179-ae8d-1b3b26617bb3",
   "metadata": {},
   "outputs": [
    {
     "name": "stderr",
     "output_type": "stream",
     "text": [
      "/opt/anaconda3/lib/python3.11/site-packages/statsmodels/tsa/base/tsa_model.py:473: ValueWarning:\n",
      "\n",
      "A date index has been provided, but it has no associated frequency information and so will be ignored when e.g. forecasting.\n",
      "\n",
      "/opt/anaconda3/lib/python3.11/site-packages/statsmodels/tsa/base/tsa_model.py:473: ValueWarning:\n",
      "\n",
      "A date index has been provided, but it has no associated frequency information and so will be ignored when e.g. forecasting.\n",
      "\n",
      "/opt/anaconda3/lib/python3.11/site-packages/statsmodels/tsa/base/tsa_model.py:473: ValueWarning:\n",
      "\n",
      "A date index has been provided, but it has no associated frequency information and so will be ignored when e.g. forecasting.\n",
      "\n",
      "/opt/anaconda3/lib/python3.11/site-packages/statsmodels/base/model.py:607: ConvergenceWarning:\n",
      "\n",
      "Maximum Likelihood optimization failed to converge. Check mle_retvals\n",
      "\n",
      "/opt/anaconda3/lib/python3.11/site-packages/statsmodels/tsa/base/tsa_model.py:836: ValueWarning:\n",
      "\n",
      "No supported index is available. Prediction results will be given with an integer index beginning at `start`.\n",
      "\n",
      "/opt/anaconda3/lib/python3.11/site-packages/statsmodels/tsa/base/tsa_model.py:836: FutureWarning:\n",
      "\n",
      "No supported index is available. In the next version, calling this method in a model without a supported index will result in an exception.\n",
      "\n"
     ]
    },
    {
     "data": {
      "text/plain": [
       "134    572.920391\n",
       "135    565.921540\n",
       "136    568.960939\n",
       "137    568.418239\n",
       "138    568.899503\n",
       "139    568.934866\n",
       "140    569.049318\n",
       "141    569.093016\n",
       "142    569.131367\n",
       "143    569.152844\n",
       "144    569.167851\n",
       "145    569.177195\n",
       "146    569.183364\n",
       "147    569.187315\n",
       "148    569.189886\n",
       "149    569.191545\n",
       "150    569.192620\n",
       "151    569.193315\n",
       "152    569.193765\n",
       "153    569.194056\n",
       "154    569.194245\n",
       "155    569.194367\n",
       "156    569.194446\n",
       "157    569.194497\n",
       "158    569.194530\n",
       "159    569.194551\n",
       "160    569.194565\n",
       "161    569.194574\n",
       "162    569.194580\n",
       "163    569.194584\n",
       "164    569.194586\n",
       "165    569.194588\n",
       "166    569.194589\n",
       "Name: predicted_mean, dtype: float64"
      ]
     },
     "execution_count": 22,
     "metadata": {},
     "output_type": "execute_result"
    }
   ],
   "source": [
    "from statsmodels.tsa.arima.model import ARIMA\n",
    "from scipy.special import inv_boxcox\n",
    "\n",
    "# Split train and test\n",
    "\n",
    "\n",
    "# Build ARIMA model and inverse the boxcox\n",
    "model = ARIMA(train['P_R_Boxcox'], order=(2, 1, 2)).fit()\n",
    "boxcox_forecasts = model.forecast(len(test))\n",
    "forecasts = inv_boxcox(boxcox_forecasts, lam)\n",
    "forecasts"
   ]
  },
  {
   "cell_type": "code",
   "execution_count": 21,
   "id": "c49ead31-b117-4a7c-af09-b464e47e4a68",
   "metadata": {},
   "outputs": [
    {
     "data": {
      "application/vnd.plotly.v1+json": {
       "config": {
        "plotlyServerURL": "https://plot.ly"
       },
       "data": [
        {
         "name": "Train",
         "type": "scatter",
         "x": [
          "2016-03-07T16:00:00",
          "2016-03-07T17:00:00",
          "2016-03-07T18:00:00",
          "2016-03-07T19:00:00",
          "2016-03-07T20:00:00",
          "2016-03-07T21:00:00",
          "2016-03-07T22:00:00",
          "2016-03-07T23:00:00",
          "2016-03-08T00:00:00",
          "2016-03-08T01:00:00",
          "2016-03-08T02:00:00",
          "2016-03-08T03:00:00",
          "2016-03-08T04:00:00",
          "2016-03-08T05:00:00",
          "2016-03-08T06:00:00",
          "2016-03-08T07:00:00",
          "2016-03-08T08:00:00",
          "2016-03-08T09:00:00",
          "2016-03-08T10:00:00",
          "2016-03-08T11:00:00",
          "2016-03-08T12:00:00",
          "2016-03-08T13:00:00",
          "2016-03-08T14:00:00",
          "2016-03-08T15:00:00",
          "2016-03-08T16:00:00",
          "2016-03-08T17:00:00",
          "2016-03-08T18:00:00",
          "2016-03-08T19:00:00",
          "2016-03-08T20:00:00",
          "2016-03-08T21:00:00",
          "2016-03-08T22:00:00",
          "2016-03-08T23:00:00",
          "2016-03-09T00:00:00",
          "2016-03-09T01:00:00",
          "2016-03-09T02:00:00",
          "2016-03-09T03:00:00",
          "2016-03-09T04:00:00",
          "2016-03-09T05:00:00",
          "2016-03-09T06:00:00",
          "2016-03-09T07:00:00",
          "2016-03-09T08:00:00",
          "2016-03-09T09:00:00",
          "2016-03-09T10:00:00",
          "2016-03-09T11:00:00",
          "2016-03-09T12:00:00",
          "2016-03-09T13:00:00",
          "2016-03-09T14:00:00",
          "2016-03-09T15:00:00",
          "2016-03-09T16:00:00",
          "2016-03-09T17:00:00",
          "2016-03-09T18:00:00",
          "2016-03-09T19:00:00",
          "2016-03-09T20:00:00",
          "2016-03-09T21:00:00",
          "2016-03-09T22:00:00",
          "2016-03-09T23:00:00",
          "2016-03-10T00:00:00",
          "2016-03-10T01:00:00",
          "2016-03-10T02:00:00",
          "2016-03-10T03:00:00",
          "2016-03-10T04:00:00",
          "2016-03-10T05:00:00",
          "2016-03-10T06:00:00",
          "2016-03-10T07:00:00",
          "2016-03-10T08:00:00",
          "2016-03-10T09:00:00",
          "2016-03-10T10:00:00",
          "2016-03-10T11:00:00",
          "2016-03-10T12:00:00",
          "2016-03-10T13:00:00",
          "2016-03-10T14:00:00",
          "2016-03-10T15:00:00",
          "2016-03-10T16:00:00",
          "2016-03-10T17:00:00",
          "2016-03-10T18:00:00",
          "2016-03-10T19:00:00",
          "2016-03-10T20:00:00",
          "2016-03-10T21:00:00",
          "2016-03-10T22:00:00",
          "2016-03-10T23:00:00",
          "2016-03-11T00:00:00",
          "2016-03-11T01:00:00",
          "2016-03-11T02:00:00",
          "2016-03-11T03:00:00",
          "2016-03-11T04:00:00",
          "2016-03-11T05:00:00",
          "2016-03-11T06:00:00",
          "2016-03-11T07:00:00",
          "2016-03-11T08:00:00",
          "2016-03-11T09:00:00",
          "2016-03-11T10:00:00",
          "2016-03-11T11:00:00",
          "2016-03-11T12:00:00",
          "2016-03-11T13:00:00",
          "2016-03-11T14:00:00",
          "2016-03-11T15:00:00",
          "2016-03-11T16:00:00",
          "2016-03-11T17:00:00",
          "2016-03-11T18:00:00",
          "2016-03-11T19:00:00",
          "2016-03-11T20:00:00",
          "2016-03-11T21:00:00",
          "2016-03-11T22:00:00",
          "2016-03-11T23:00:00",
          "2016-03-12T00:00:00",
          "2016-03-12T01:00:00",
          "2016-03-12T02:00:00",
          "2016-03-12T03:00:00",
          "2016-03-12T04:00:00",
          "2016-03-12T05:00:00",
          "2016-03-12T06:00:00",
          "2016-03-12T07:00:00",
          "2016-03-12T08:00:00",
          "2016-03-12T09:00:00",
          "2016-03-12T10:00:00",
          "2016-03-12T11:00:00",
          "2016-03-12T12:00:00",
          "2016-03-12T13:00:00",
          "2016-03-12T14:00:00",
          "2016-03-12T15:00:00",
          "2016-03-12T16:00:00",
          "2016-03-12T17:00:00",
          "2016-03-12T18:00:00",
          "2016-03-12T19:00:00",
          "2016-03-12T20:00:00",
          "2016-03-12T21:00:00",
          "2016-03-12T22:00:00",
          "2016-03-12T23:00:00",
          "2016-03-13T00:00:00",
          "2016-03-13T01:00:00",
          "2016-03-13T03:00:00",
          "2016-03-13T04:00:00",
          "2016-03-13T05:00:00",
          "2016-03-13T06:00:00"
         ],
         "y": [
          559.27,
          564.02,
          580.97,
          565.64,
          549.09,
          557.55,
          551.05,
          559.31,
          544.03,
          548.12,
          539.14,
          567.67,
          575.05,
          534.09,
          553.92,
          549.7,
          550.44,
          566.32,
          556.87,
          556.41,
          589.25,
          566.07,
          545.85,
          553.96,
          542.25,
          553.72,
          576.54,
          540.38,
          535.11,
          579.54,
          522.34,
          567.57,
          517.56,
          574.65,
          565,
          554.94,
          580.5,
          546.88,
          543.3,
          555.31,
          551.34,
          625.9,
          619.22,
          586.94,
          572.66,
          625.99,
          619.44,
          632.73,
          590.38,
          647.69,
          585.61,
          553.82,
          541.15,
          553.66,
          550.03,
          536.34,
          585.8,
          555.51,
          535.26,
          548.03,
          604.81,
          549.31,
          562.93,
          565.36,
          560.63,
          592.97,
          588.97,
          566.29,
          560.72,
          569.24,
          550.81,
          573.73,
          561.9,
          598.43,
          586.56,
          566.94,
          551.49,
          550.31,
          550.62,
          555.12,
          541.69,
          556.32,
          565.58,
          540.55,
          571.57,
          533.07,
          551.54,
          556.41,
          559,
          550.54,
          545.14,
          556.39,
          555.13,
          561.91,
          535.84,
          552.42,
          537.36,
          551.5,
          654.8,
          558.93,
          533.62,
          549.55,
          545.51,
          533.62,
          544.42,
          114.4,
          1180.77,
          661.08,
          737.17,
          665.51,
          634.87,
          629.16,
          602.32,
          594.57,
          590.26,
          592.28,
          555.62,
          570.61,
          603.81,
          599.01,
          561.99,
          544.61,
          621.34,
          549.14,
          578.46,
          547.16,
          566.84,
          567.71,
          559.99,
          569.63,
          614.26,
          565.4,
          559.25,
          548.51
         ]
        },
        {
         "name": "Test",
         "type": "scatter",
         "x": [
          "2016-03-13T07:00:00",
          "2016-03-13T08:00:00",
          "2016-03-13T09:00:00",
          "2016-03-13T10:00:00",
          "2016-03-13T11:00:00",
          "2016-03-13T12:00:00",
          "2016-03-13T13:00:00",
          "2016-03-13T14:00:00",
          "2016-03-13T15:00:00",
          "2016-03-13T16:00:00",
          "2016-03-13T17:00:00",
          "2016-03-13T18:00:00",
          "2016-03-13T19:00:00",
          "2016-03-13T20:00:00",
          "2016-03-13T21:00:00",
          "2016-03-13T22:00:00",
          "2016-03-13T23:00:00",
          "2016-03-14T00:00:00",
          "2016-03-14T01:00:00",
          "2016-03-14T02:00:00",
          "2016-03-14T03:00:00",
          "2016-03-14T04:00:00",
          "2016-03-14T05:00:00",
          "2016-03-14T06:00:00",
          "2016-03-14T07:00:00",
          "2016-03-14T08:00:00",
          "2016-03-14T09:00:00",
          "2016-03-14T10:00:00",
          "2016-03-14T11:00:00",
          "2016-03-14T12:00:00",
          "2016-03-14T13:00:00",
          "2016-03-14T14:00:00",
          "2016-03-14T15:00:00"
         ],
         "y": [
          682.87,
          680.33,
          578.81,
          548.28,
          539.48,
          551.79,
          548.82,
          557.37,
          604.93,
          568.71,
          548.7,
          635.77,
          555.31,
          551.62,
          594.32,
          573.88,
          633.44,
          566.08,
          546.08,
          550.65,
          622.53,
          571.64,
          539.76,
          543.03,
          554.74,
          566.49,
          587.06,
          560.52,
          576.76,
          569.96,
          573.23,
          607.92,
          674.72
         ]
        },
        {
         "name": "Forecast",
         "type": "scatter",
         "x": [
          "2016-03-13T07:00:00",
          "2016-03-13T08:00:00",
          "2016-03-13T09:00:00",
          "2016-03-13T10:00:00",
          "2016-03-13T11:00:00",
          "2016-03-13T12:00:00",
          "2016-03-13T13:00:00",
          "2016-03-13T14:00:00",
          "2016-03-13T15:00:00",
          "2016-03-13T16:00:00",
          "2016-03-13T17:00:00",
          "2016-03-13T18:00:00",
          "2016-03-13T19:00:00",
          "2016-03-13T20:00:00",
          "2016-03-13T21:00:00",
          "2016-03-13T22:00:00",
          "2016-03-13T23:00:00",
          "2016-03-14T00:00:00",
          "2016-03-14T01:00:00",
          "2016-03-14T02:00:00",
          "2016-03-14T03:00:00",
          "2016-03-14T04:00:00",
          "2016-03-14T05:00:00",
          "2016-03-14T06:00:00",
          "2016-03-14T07:00:00",
          "2016-03-14T08:00:00",
          "2016-03-14T09:00:00",
          "2016-03-14T10:00:00",
          "2016-03-14T11:00:00",
          "2016-03-14T12:00:00",
          "2016-03-14T13:00:00",
          "2016-03-14T14:00:00",
          "2016-03-14T15:00:00"
         ],
         "y": [
          572.9203911627148,
          565.9215399856104,
          568.9609385196965,
          568.4182387884287,
          568.8995033694291,
          568.9348658688441,
          569.0493177420502,
          569.0930161265038,
          569.1313665695942,
          569.152844316163,
          569.1678510707899,
          569.1771950599734,
          569.1833637050656,
          569.1873152281953,
          569.1898857878012,
          569.1915448352433,
          569.1926199320486,
          569.193315172782,
          569.1937652474135,
          569.1940564513218,
          569.1942449165003,
          569.1943668724201,
          569.1944457959488,
          569.1944968692325,
          569.1945299205993,
          569.1945513091221,
          569.1945651503408,
          569.1945741074273,
          569.1945799038461,
          569.1945836548934,
          569.1945860823151,
          569.1945876531776,
          569.1945886697332
         ]
        }
       ],
       "layout": {
        "font": {
         "size": 18
        },
        "height": 400,
        "template": {
         "data": {
          "bar": [
           {
            "error_x": {
             "color": "rgb(36,36,36)"
            },
            "error_y": {
             "color": "rgb(36,36,36)"
            },
            "marker": {
             "line": {
              "color": "white",
              "width": 0.5
             },
             "pattern": {
              "fillmode": "overlay",
              "size": 10,
              "solidity": 0.2
             }
            },
            "type": "bar"
           }
          ],
          "barpolar": [
           {
            "marker": {
             "line": {
              "color": "white",
              "width": 0.5
             },
             "pattern": {
              "fillmode": "overlay",
              "size": 10,
              "solidity": 0.2
             }
            },
            "type": "barpolar"
           }
          ],
          "carpet": [
           {
            "aaxis": {
             "endlinecolor": "rgb(36,36,36)",
             "gridcolor": "white",
             "linecolor": "white",
             "minorgridcolor": "white",
             "startlinecolor": "rgb(36,36,36)"
            },
            "baxis": {
             "endlinecolor": "rgb(36,36,36)",
             "gridcolor": "white",
             "linecolor": "white",
             "minorgridcolor": "white",
             "startlinecolor": "rgb(36,36,36)"
            },
            "type": "carpet"
           }
          ],
          "choropleth": [
           {
            "colorbar": {
             "outlinewidth": 1,
             "tickcolor": "rgb(36,36,36)",
             "ticks": "outside"
            },
            "type": "choropleth"
           }
          ],
          "contour": [
           {
            "colorbar": {
             "outlinewidth": 1,
             "tickcolor": "rgb(36,36,36)",
             "ticks": "outside"
            },
            "colorscale": [
             [
              0,
              "#440154"
             ],
             [
              0.1111111111111111,
              "#482878"
             ],
             [
              0.2222222222222222,
              "#3e4989"
             ],
             [
              0.3333333333333333,
              "#31688e"
             ],
             [
              0.4444444444444444,
              "#26828e"
             ],
             [
              0.5555555555555556,
              "#1f9e89"
             ],
             [
              0.6666666666666666,
              "#35b779"
             ],
             [
              0.7777777777777778,
              "#6ece58"
             ],
             [
              0.8888888888888888,
              "#b5de2b"
             ],
             [
              1,
              "#fde725"
             ]
            ],
            "type": "contour"
           }
          ],
          "contourcarpet": [
           {
            "colorbar": {
             "outlinewidth": 1,
             "tickcolor": "rgb(36,36,36)",
             "ticks": "outside"
            },
            "type": "contourcarpet"
           }
          ],
          "heatmap": [
           {
            "colorbar": {
             "outlinewidth": 1,
             "tickcolor": "rgb(36,36,36)",
             "ticks": "outside"
            },
            "colorscale": [
             [
              0,
              "#440154"
             ],
             [
              0.1111111111111111,
              "#482878"
             ],
             [
              0.2222222222222222,
              "#3e4989"
             ],
             [
              0.3333333333333333,
              "#31688e"
             ],
             [
              0.4444444444444444,
              "#26828e"
             ],
             [
              0.5555555555555556,
              "#1f9e89"
             ],
             [
              0.6666666666666666,
              "#35b779"
             ],
             [
              0.7777777777777778,
              "#6ece58"
             ],
             [
              0.8888888888888888,
              "#b5de2b"
             ],
             [
              1,
              "#fde725"
             ]
            ],
            "type": "heatmap"
           }
          ],
          "heatmapgl": [
           {
            "colorbar": {
             "outlinewidth": 1,
             "tickcolor": "rgb(36,36,36)",
             "ticks": "outside"
            },
            "colorscale": [
             [
              0,
              "#440154"
             ],
             [
              0.1111111111111111,
              "#482878"
             ],
             [
              0.2222222222222222,
              "#3e4989"
             ],
             [
              0.3333333333333333,
              "#31688e"
             ],
             [
              0.4444444444444444,
              "#26828e"
             ],
             [
              0.5555555555555556,
              "#1f9e89"
             ],
             [
              0.6666666666666666,
              "#35b779"
             ],
             [
              0.7777777777777778,
              "#6ece58"
             ],
             [
              0.8888888888888888,
              "#b5de2b"
             ],
             [
              1,
              "#fde725"
             ]
            ],
            "type": "heatmapgl"
           }
          ],
          "histogram": [
           {
            "marker": {
             "line": {
              "color": "white",
              "width": 0.6
             }
            },
            "type": "histogram"
           }
          ],
          "histogram2d": [
           {
            "colorbar": {
             "outlinewidth": 1,
             "tickcolor": "rgb(36,36,36)",
             "ticks": "outside"
            },
            "colorscale": [
             [
              0,
              "#440154"
             ],
             [
              0.1111111111111111,
              "#482878"
             ],
             [
              0.2222222222222222,
              "#3e4989"
             ],
             [
              0.3333333333333333,
              "#31688e"
             ],
             [
              0.4444444444444444,
              "#26828e"
             ],
             [
              0.5555555555555556,
              "#1f9e89"
             ],
             [
              0.6666666666666666,
              "#35b779"
             ],
             [
              0.7777777777777778,
              "#6ece58"
             ],
             [
              0.8888888888888888,
              "#b5de2b"
             ],
             [
              1,
              "#fde725"
             ]
            ],
            "type": "histogram2d"
           }
          ],
          "histogram2dcontour": [
           {
            "colorbar": {
             "outlinewidth": 1,
             "tickcolor": "rgb(36,36,36)",
             "ticks": "outside"
            },
            "colorscale": [
             [
              0,
              "#440154"
             ],
             [
              0.1111111111111111,
              "#482878"
             ],
             [
              0.2222222222222222,
              "#3e4989"
             ],
             [
              0.3333333333333333,
              "#31688e"
             ],
             [
              0.4444444444444444,
              "#26828e"
             ],
             [
              0.5555555555555556,
              "#1f9e89"
             ],
             [
              0.6666666666666666,
              "#35b779"
             ],
             [
              0.7777777777777778,
              "#6ece58"
             ],
             [
              0.8888888888888888,
              "#b5de2b"
             ],
             [
              1,
              "#fde725"
             ]
            ],
            "type": "histogram2dcontour"
           }
          ],
          "mesh3d": [
           {
            "colorbar": {
             "outlinewidth": 1,
             "tickcolor": "rgb(36,36,36)",
             "ticks": "outside"
            },
            "type": "mesh3d"
           }
          ],
          "parcoords": [
           {
            "line": {
             "colorbar": {
              "outlinewidth": 1,
              "tickcolor": "rgb(36,36,36)",
              "ticks": "outside"
             }
            },
            "type": "parcoords"
           }
          ],
          "pie": [
           {
            "automargin": true,
            "type": "pie"
           }
          ],
          "scatter": [
           {
            "fillpattern": {
             "fillmode": "overlay",
             "size": 10,
             "solidity": 0.2
            },
            "type": "scatter"
           }
          ],
          "scatter3d": [
           {
            "line": {
             "colorbar": {
              "outlinewidth": 1,
              "tickcolor": "rgb(36,36,36)",
              "ticks": "outside"
             }
            },
            "marker": {
             "colorbar": {
              "outlinewidth": 1,
              "tickcolor": "rgb(36,36,36)",
              "ticks": "outside"
             }
            },
            "type": "scatter3d"
           }
          ],
          "scattercarpet": [
           {
            "marker": {
             "colorbar": {
              "outlinewidth": 1,
              "tickcolor": "rgb(36,36,36)",
              "ticks": "outside"
             }
            },
            "type": "scattercarpet"
           }
          ],
          "scattergeo": [
           {
            "marker": {
             "colorbar": {
              "outlinewidth": 1,
              "tickcolor": "rgb(36,36,36)",
              "ticks": "outside"
             }
            },
            "type": "scattergeo"
           }
          ],
          "scattergl": [
           {
            "marker": {
             "colorbar": {
              "outlinewidth": 1,
              "tickcolor": "rgb(36,36,36)",
              "ticks": "outside"
             }
            },
            "type": "scattergl"
           }
          ],
          "scattermapbox": [
           {
            "marker": {
             "colorbar": {
              "outlinewidth": 1,
              "tickcolor": "rgb(36,36,36)",
              "ticks": "outside"
             }
            },
            "type": "scattermapbox"
           }
          ],
          "scatterpolar": [
           {
            "marker": {
             "colorbar": {
              "outlinewidth": 1,
              "tickcolor": "rgb(36,36,36)",
              "ticks": "outside"
             }
            },
            "type": "scatterpolar"
           }
          ],
          "scatterpolargl": [
           {
            "marker": {
             "colorbar": {
              "outlinewidth": 1,
              "tickcolor": "rgb(36,36,36)",
              "ticks": "outside"
             }
            },
            "type": "scatterpolargl"
           }
          ],
          "scatterternary": [
           {
            "marker": {
             "colorbar": {
              "outlinewidth": 1,
              "tickcolor": "rgb(36,36,36)",
              "ticks": "outside"
             }
            },
            "type": "scatterternary"
           }
          ],
          "surface": [
           {
            "colorbar": {
             "outlinewidth": 1,
             "tickcolor": "rgb(36,36,36)",
             "ticks": "outside"
            },
            "colorscale": [
             [
              0,
              "#440154"
             ],
             [
              0.1111111111111111,
              "#482878"
             ],
             [
              0.2222222222222222,
              "#3e4989"
             ],
             [
              0.3333333333333333,
              "#31688e"
             ],
             [
              0.4444444444444444,
              "#26828e"
             ],
             [
              0.5555555555555556,
              "#1f9e89"
             ],
             [
              0.6666666666666666,
              "#35b779"
             ],
             [
              0.7777777777777778,
              "#6ece58"
             ],
             [
              0.8888888888888888,
              "#b5de2b"
             ],
             [
              1,
              "#fde725"
             ]
            ],
            "type": "surface"
           }
          ],
          "table": [
           {
            "cells": {
             "fill": {
              "color": "rgb(237,237,237)"
             },
             "line": {
              "color": "white"
             }
            },
            "header": {
             "fill": {
              "color": "rgb(217,217,217)"
             },
             "line": {
              "color": "white"
             }
            },
            "type": "table"
           }
          ]
         },
         "layout": {
          "annotationdefaults": {
           "arrowhead": 0,
           "arrowwidth": 1
          },
          "autotypenumbers": "strict",
          "coloraxis": {
           "colorbar": {
            "outlinewidth": 1,
            "tickcolor": "rgb(36,36,36)",
            "ticks": "outside"
           }
          },
          "colorscale": {
           "diverging": [
            [
             0,
             "rgb(103,0,31)"
            ],
            [
             0.1,
             "rgb(178,24,43)"
            ],
            [
             0.2,
             "rgb(214,96,77)"
            ],
            [
             0.3,
             "rgb(244,165,130)"
            ],
            [
             0.4,
             "rgb(253,219,199)"
            ],
            [
             0.5,
             "rgb(247,247,247)"
            ],
            [
             0.6,
             "rgb(209,229,240)"
            ],
            [
             0.7,
             "rgb(146,197,222)"
            ],
            [
             0.8,
             "rgb(67,147,195)"
            ],
            [
             0.9,
             "rgb(33,102,172)"
            ],
            [
             1,
             "rgb(5,48,97)"
            ]
           ],
           "sequential": [
            [
             0,
             "#440154"
            ],
            [
             0.1111111111111111,
             "#482878"
            ],
            [
             0.2222222222222222,
             "#3e4989"
            ],
            [
             0.3333333333333333,
             "#31688e"
            ],
            [
             0.4444444444444444,
             "#26828e"
            ],
            [
             0.5555555555555556,
             "#1f9e89"
            ],
            [
             0.6666666666666666,
             "#35b779"
            ],
            [
             0.7777777777777778,
             "#6ece58"
            ],
            [
             0.8888888888888888,
             "#b5de2b"
            ],
            [
             1,
             "#fde725"
            ]
           ],
           "sequentialminus": [
            [
             0,
             "#440154"
            ],
            [
             0.1111111111111111,
             "#482878"
            ],
            [
             0.2222222222222222,
             "#3e4989"
            ],
            [
             0.3333333333333333,
             "#31688e"
            ],
            [
             0.4444444444444444,
             "#26828e"
            ],
            [
             0.5555555555555556,
             "#1f9e89"
            ],
            [
             0.6666666666666666,
             "#35b779"
            ],
            [
             0.7777777777777778,
             "#6ece58"
            ],
            [
             0.8888888888888888,
             "#b5de2b"
            ],
            [
             1,
             "#fde725"
            ]
           ]
          },
          "colorway": [
           "#1F77B4",
           "#FF7F0E",
           "#2CA02C",
           "#D62728",
           "#9467BD",
           "#8C564B",
           "#E377C2",
           "#7F7F7F",
           "#BCBD22",
           "#17BECF"
          ],
          "font": {
           "color": "rgb(36,36,36)"
          },
          "geo": {
           "bgcolor": "white",
           "lakecolor": "white",
           "landcolor": "white",
           "showlakes": true,
           "showland": true,
           "subunitcolor": "white"
          },
          "hoverlabel": {
           "align": "left"
          },
          "hovermode": "closest",
          "mapbox": {
           "style": "light"
          },
          "paper_bgcolor": "white",
          "plot_bgcolor": "white",
          "polar": {
           "angularaxis": {
            "gridcolor": "rgb(232,232,232)",
            "linecolor": "rgb(36,36,36)",
            "showgrid": false,
            "showline": true,
            "ticks": "outside"
           },
           "bgcolor": "white",
           "radialaxis": {
            "gridcolor": "rgb(232,232,232)",
            "linecolor": "rgb(36,36,36)",
            "showgrid": false,
            "showline": true,
            "ticks": "outside"
           }
          },
          "scene": {
           "xaxis": {
            "backgroundcolor": "white",
            "gridcolor": "rgb(232,232,232)",
            "gridwidth": 2,
            "linecolor": "rgb(36,36,36)",
            "showbackground": true,
            "showgrid": false,
            "showline": true,
            "ticks": "outside",
            "zeroline": false,
            "zerolinecolor": "rgb(36,36,36)"
           },
           "yaxis": {
            "backgroundcolor": "white",
            "gridcolor": "rgb(232,232,232)",
            "gridwidth": 2,
            "linecolor": "rgb(36,36,36)",
            "showbackground": true,
            "showgrid": false,
            "showline": true,
            "ticks": "outside",
            "zeroline": false,
            "zerolinecolor": "rgb(36,36,36)"
           },
           "zaxis": {
            "backgroundcolor": "white",
            "gridcolor": "rgb(232,232,232)",
            "gridwidth": 2,
            "linecolor": "rgb(36,36,36)",
            "showbackground": true,
            "showgrid": false,
            "showline": true,
            "ticks": "outside",
            "zeroline": false,
            "zerolinecolor": "rgb(36,36,36)"
           }
          },
          "shapedefaults": {
           "fillcolor": "black",
           "line": {
            "width": 0
           },
           "opacity": 0.3
          },
          "ternary": {
           "aaxis": {
            "gridcolor": "rgb(232,232,232)",
            "linecolor": "rgb(36,36,36)",
            "showgrid": false,
            "showline": true,
            "ticks": "outside"
           },
           "baxis": {
            "gridcolor": "rgb(232,232,232)",
            "linecolor": "rgb(36,36,36)",
            "showgrid": false,
            "showline": true,
            "ticks": "outside"
           },
           "bgcolor": "white",
           "caxis": {
            "gridcolor": "rgb(232,232,232)",
            "linecolor": "rgb(36,36,36)",
            "showgrid": false,
            "showline": true,
            "ticks": "outside"
           }
          },
          "title": {
           "x": 0.05
          },
          "xaxis": {
           "automargin": true,
           "gridcolor": "rgb(232,232,232)",
           "linecolor": "rgb(36,36,36)",
           "showgrid": false,
           "showline": true,
           "ticks": "outside",
           "title": {
            "standoff": 15
           },
           "zeroline": false,
           "zerolinecolor": "rgb(36,36,36)"
          },
          "yaxis": {
           "automargin": true,
           "gridcolor": "rgb(232,232,232)",
           "linecolor": "rgb(36,36,36)",
           "showgrid": false,
           "showline": true,
           "ticks": "outside",
           "title": {
            "standoff": 15
           },
           "zeroline": false,
           "zerolinecolor": "rgb(36,36,36)"
          }
         }
        },
        "title": {
         "text": "ARIMA",
         "x": 0.5
        },
        "width": 650,
        "xaxis": {
         "autorange": true,
         "range": [
          "2016-03-07 16:00",
          "2016-03-14 15:00"
         ],
         "title": {
          "text": "Date"
         },
         "type": "date"
        },
        "yaxis": {
         "autorange": true,
         "range": [
          55.157222222222224,
          1240.0127777777777
         ],
         "title": {
          "text": "Passenger Volume"
         },
         "type": "linear"
        }
       }
      },
      "image/png": "[encoded data removed]",
      "text/html": [
       "<div>                            <div id=\"f08b896a-6e6a-4636-ac18-5d464ee5506c\" class=\"plotly-graph-div\" style=\"height:400px; width:650px;\"></div>            <script type=\"text/javascript\">                require([\"plotly\"], function(Plotly) {                    window.PLOTLYENV=window.PLOTLYENV || {};                                    if (document.getElementById(\"f08b896a-6e6a-4636-ac18-5d464ee5506c\")) {                    Plotly.newPlot(                        \"f08b896a-6e6a-4636-ac18-5d464ee5506c\",                        [{\"name\":\"Train\",\"x\":[\"2016-03-07T16:00:00\",\"2016-03-07T17:00:00\",\"2016-03-07T18:00:00\",\"2016-03-07T19:00:00\",\"2016-03-07T20:00:00\",\"2016-03-07T21:00:00\",\"2016-03-07T22:00:00\",\"2016-03-07T23:00:00\",\"2016-03-08T00:00:00\",\"2016-03-08T01:00:00\",\"2016-03-08T02:00:00\",\"2016-03-08T03:00:00\",\"2016-03-08T04:00:00\",\"2016-03-08T05:00:00\",\"2016-03-08T06:00:00\",\"2016-03-08T07:00:00\",\"2016-03-08T08:00:00\",\"2016-03-08T09:00:00\",\"2016-03-08T10:00:00\",\"2016-03-08T11:00:00\",\"2016-03-08T12:00:00\",\"2016-03-08T13:00:00\",\"2016-03-08T14:00:00\",\"2016-03-08T15:00:00\",\"2016-03-08T16:00:00\",\"2016-03-08T17:00:00\",\"2016-03-08T18:00:00\",\"2016-03-08T19:00:00\",\"2016-03-08T20:00:00\",\"2016-03-08T21:00:00\",\"2016-03-08T22:00:00\",\"2016-03-08T23:00:00\",\"2016-03-09T00:00:00\",\"2016-03-09T01:00:00\",\"2016-03-09T02:00:00\",\"2016-03-09T03:00:00\",\"2016-03-09T04:00:00\",\"2016-03-09T05:00:00\",\"2016-03-09T06:00:00\",\"2016-03-09T07:00:00\",\"2016-03-09T08:00:00\",\"2016-03-09T09:00:00\",\"2016-03-09T10:00:00\",\"2016-03-09T11:00:00\",\"2016-03-09T12:00:00\",\"2016-03-09T13:00:00\",\"2016-03-09T14:00:00\",\"2016-03-09T15:00:00\",\"2016-03-09T16:00:00\",\"2016-03-09T17:00:00\",\"2016-03-09T18:00:00\",\"2016-03-09T19:00:00\",\"2016-03-09T20:00:00\",\"2016-03-09T21:00:00\",\"2016-03-09T22:00:00\",\"2016-03-09T23:00:00\",\"2016-03-10T00:00:00\",\"2016-03-10T01:00:00\",\"2016-03-10T02:00:00\",\"2016-03-10T03:00:00\",\"2016-03-10T04:00:00\",\"2016-03-10T05:00:00\",\"2016-03-10T06:00:00\",\"2016-03-10T07:00:00\",\"2016-03-10T08:00:00\",\"2016-03-10T09:00:00\",\"2016-03-10T10:00:00\",\"2016-03-10T11:00:00\",\"2016-03-10T12:00:00\",\"2016-03-10T13:00:00\",\"2016-03-10T14:00:00\",\"2016-03-10T15:00:00\",\"2016-03-10T16:00:00\",\"2016-03-10T17:00:00\",\"2016-03-10T18:00:00\",\"2016-03-10T19:00:00\",\"2016-03-10T20:00:00\",\"2016-03-10T21:00:00\",\"2016-03-10T22:00:00\",\"2016-03-10T23:00:00\",\"2016-03-11T00:00:00\",\"2016-03-11T01:00:00\",\"2016-03-11T02:00:00\",\"2016-03-11T03:00:00\",\"2016-03-11T04:00:00\",\"2016-03-11T05:00:00\",\"2016-03-11T06:00:00\",\"2016-03-11T07:00:00\",\"2016-03-11T08:00:00\",\"2016-03-11T09:00:00\",\"2016-03-11T10:00:00\",\"2016-03-11T11:00:00\",\"2016-03-11T12:00:00\",\"2016-03-11T13:00:00\",\"2016-03-11T14:00:00\",\"2016-03-11T15:00:00\",\"2016-03-11T16:00:00\",\"2016-03-11T17:00:00\",\"2016-03-11T18:00:00\",\"2016-03-11T19:00:00\",\"2016-03-11T20:00:00\",\"2016-03-11T21:00:00\",\"2016-03-11T22:00:00\",\"2016-03-11T23:00:00\",\"2016-03-12T00:00:00\",\"2016-03-12T01:00:00\",\"2016-03-12T02:00:00\",\"2016-03-12T03:00:00\",\"2016-03-12T04:00:00\",\"2016-03-12T05:00:00\",\"2016-03-12T06:00:00\",\"2016-03-12T07:00:00\",\"2016-03-12T08:00:00\",\"2016-03-12T09:00:00\",\"2016-03-12T10:00:00\",\"2016-03-12T11:00:00\",\"2016-03-12T12:00:00\",\"2016-03-12T13:00:00\",\"2016-03-12T14:00:00\",\"2016-03-12T15:00:00\",\"2016-03-12T16:00:00\",\"2016-03-12T17:00:00\",\"2016-03-12T18:00:00\",\"2016-03-12T19:00:00\",\"2016-03-12T20:00:00\",\"2016-03-12T21:00:00\",\"2016-03-12T22:00:00\",\"2016-03-12T23:00:00\",\"2016-03-13T00:00:00\",\"2016-03-13T01:00:00\",\"2016-03-13T03:00:00\",\"2016-03-13T04:00:00\",\"2016-03-13T05:00:00\",\"2016-03-13T06:00:00\"],\"y\":[559.27,564.02,580.97,565.64,549.09,557.55,551.05,559.31,544.03,548.12,539.14,567.67,575.05,534.09,553.92,549.7,550.44,566.32,556.87,556.41,589.25,566.07,545.85,553.96,542.25,553.72,576.54,540.38,535.11,579.54,522.34,567.57,517.56,574.65,565.0,554.94,580.5,546.88,543.3,555.31,551.34,625.9,619.22,586.94,572.66,625.99,619.44,632.73,590.38,647.69,585.61,553.82,541.15,553.66,550.03,536.34,585.8,555.51,535.26,548.03,604.81,549.31,562.93,565.36,560.63,592.97,588.97,566.29,560.72,569.24,550.81,573.73,561.9,598.43,586.56,566.94,551.49,550.31,550.62,555.12,541.69,556.32,565.58,540.55,571.57,533.07,551.54,556.41,559.0,550.54,545.14,556.39,555.13,561.91,535.84,552.42,537.36,551.5,654.8,558.93,533.62,549.55,545.51,533.62,544.42,114.4,1180.77,661.08,737.17,665.51,634.87,629.16,602.32,594.57,590.26,592.28,555.62,570.61,603.81,599.01,561.99,544.61,621.34,549.14,578.46,547.16,566.84,567.71,559.99,569.63,614.26,565.4,559.25,548.51],\"type\":\"scatter\"},{\"name\":\"Test\",\"x\":[\"2016-03-13T07:00:00\",\"2016-03-13T08:00:00\",\"2016-03-13T09:00:00\",\"2016-03-13T10:00:00\",\"2016-03-13T11:00:00\",\"2016-03-13T12:00:00\",\"2016-03-13T13:00:00\",\"2016-03-13T14:00:00\",\"2016-03-13T15:00:00\",\"2016-03-13T16:00:00\",\"2016-03-13T17:00:00\",\"2016-03-13T18:00:00\",\"2016-03-13T19:00:00\",\"2016-03-13T20:00:00\",\"2016-03-13T21:00:00\",\"2016-03-13T22:00:00\",\"2016-03-13T23:00:00\",\"2016-03-14T00:00:00\",\"2016-03-14T01:00:00\",\"2016-03-14T02:00:00\",\"2016-03-14T03:00:00\",\"2016-03-14T04:00:00\",\"2016-03-14T05:00:00\",\"2016-03-14T06:00:00\",\"2016-03-14T07:00:00\",\"2016-03-14T08:00:00\",\"2016-03-14T09:00:00\",\"2016-03-14T10:00:00\",\"2016-03-14T11:00:00\",\"2016-03-14T12:00:00\",\"2016-03-14T13:00:00\",\"2016-03-14T14:00:00\",\"2016-03-14T15:00:00\"],\"y\":[682.87,680.33,578.81,548.28,539.48,551.79,548.82,557.37,604.93,568.71,548.7,635.77,555.31,551.62,594.32,573.88,633.44,566.08,546.08,550.65,622.53,571.64,539.76,543.03,554.74,566.49,587.06,560.52,576.76,569.96,573.23,607.92,674.72],\"type\":\"scatter\"},{\"name\":\"Forecast\",\"x\":[\"2016-03-13T07:00:00\",\"2016-03-13T08:00:00\",\"2016-03-13T09:00:00\",\"2016-03-13T10:00:00\",\"2016-03-13T11:00:00\",\"2016-03-13T12:00:00\",\"2016-03-13T13:00:00\",\"2016-03-13T14:00:00\",\"2016-03-13T15:00:00\",\"2016-03-13T16:00:00\",\"2016-03-13T17:00:00\",\"2016-03-13T18:00:00\",\"2016-03-13T19:00:00\",\"2016-03-13T20:00:00\",\"2016-03-13T21:00:00\",\"2016-03-13T22:00:00\",\"2016-03-13T23:00:00\",\"2016-03-14T00:00:00\",\"2016-03-14T01:00:00\",\"2016-03-14T02:00:00\",\"2016-03-14T03:00:00\",\"2016-03-14T04:00:00\",\"2016-03-14T05:00:00\",\"2016-03-14T06:00:00\",\"2016-03-14T07:00:00\",\"2016-03-14T08:00:00\",\"2016-03-14T09:00:00\",\"2016-03-14T10:00:00\",\"2016-03-14T11:00:00\",\"2016-03-14T12:00:00\",\"2016-03-14T13:00:00\",\"2016-03-14T14:00:00\",\"2016-03-14T15:00:00\"],\"y\":[572.9203911627148,565.9215399856104,568.9609385196965,568.4182387884287,568.8995033694291,568.9348658688441,569.0493177420502,569.0930161265038,569.1313665695942,569.152844316163,569.1678510707899,569.1771950599734,569.1833637050656,569.1873152281953,569.1898857878012,569.1915448352433,569.1926199320486,569.193315172782,569.1937652474135,569.1940564513218,569.1942449165003,569.1943668724201,569.1944457959488,569.1944968692325,569.1945299205993,569.1945513091221,569.1945651503408,569.1945741074273,569.1945799038461,569.1945836548934,569.1945860823151,569.1945876531776,569.1945886697332],\"type\":\"scatter\"}],                        {\"template\":{\"data\":{\"barpolar\":[{\"marker\":{\"line\":{\"color\":\"white\",\"width\":0.5},\"pattern\":{\"fillmode\":\"overlay\",\"size\":10,\"solidity\":0.2}},\"type\":\"barpolar\"}],\"bar\":[{\"error_x\":{\"color\":\"rgb(36,36,36)\"},\"error_y\":{\"color\":\"rgb(36,36,36)\"},\"marker\":{\"line\":{\"color\":\"white\",\"width\":0.5},\"pattern\":{\"fillmode\":\"overlay\",\"size\":10,\"solidity\":0.2}},\"type\":\"bar\"}],\"carpet\":[{\"aaxis\":{\"endlinecolor\":\"rgb(36,36,36)\",\"gridcolor\":\"white\",\"linecolor\":\"white\",\"minorgridcolor\":\"white\",\"startlinecolor\":\"rgb(36,36,36)\"},\"baxis\":{\"endlinecolor\":\"rgb(36,36,36)\",\"gridcolor\":\"white\",\"linecolor\":\"white\",\"minorgridcolor\":\"white\",\"startlinecolor\":\"rgb(36,36,36)\"},\"type\":\"carpet\"}],\"choropleth\":[{\"colorbar\":{\"outlinewidth\":1,\"tickcolor\":\"rgb(36,36,36)\",\"ticks\":\"outside\"},\"type\":\"choropleth\"}],\"contourcarpet\":[{\"colorbar\":{\"outlinewidth\":1,\"tickcolor\":\"rgb(36,36,36)\",\"ticks\":\"outside\"},\"type\":\"contourcarpet\"}],\"contour\":[{\"colorbar\":{\"outlinewidth\":1,\"tickcolor\":\"rgb(36,36,36)\",\"ticks\":\"outside\"},\"colorscale\":[[0.0,\"#440154\"],[0.1111111111111111,\"#482878\"],[0.2222222222222222,\"#3e4989\"],[0.3333333333333333,\"#31688e\"],[0.4444444444444444,\"#26828e\"],[0.5555555555555556,\"#1f9e89\"],[0.6666666666666666,\"#35b779\"],[0.7777777777777778,\"#6ece58\"],[0.8888888888888888,\"#b5de2b\"],[1.0,\"#fde725\"]],\"type\":\"contour\"}],\"heatmapgl\":[{\"colorbar\":{\"outlinewidth\":1,\"tickcolor\":\"rgb(36,36,36)\",\"ticks\":\"outside\"},\"colorscale\":[[0.0,\"#440154\"],[0.1111111111111111,\"#482878\"],[0.2222222222222222,\"#3e4989\"],[0.3333333333333333,\"#31688e\"],[0.4444444444444444,\"#26828e\"],[0.5555555555555556,\"#1f9e89\"],[0.6666666666666666,\"#35b779\"],[0.7777777777777778,\"#6ece58\"],[0.8888888888888888,\"#b5de2b\"],[1.0,\"#fde725\"]],\"type\":\"heatmapgl\"}],\"heatmap\":[{\"colorbar\":{\"outlinewidth\":1,\"tickcolor\":\"rgb(36,36,36)\",\"ticks\":\"outside\"},\"colorscale\":[[0.0,\"#440154\"],[0.1111111111111111,\"#482878\"],[0.2222222222222222,\"#3e4989\"],[0.3333333333333333,\"#31688e\"],[0.4444444444444444,\"#26828e\"],[0.5555555555555556,\"#1f9e89\"],[0.6666666666666666,\"#35b779\"],[0.7777777777777778,\"#6ece58\"],[0.8888888888888888,\"#b5de2b\"],[1.0,\"#fde725\"]],\"type\":\"heatmap\"}],\"histogram2dcontour\":[{\"colorbar\":{\"outlinewidth\":1,\"tickcolor\":\"rgb(36,36,36)\",\"ticks\":\"outside\"},\"colorscale\":[[0.0,\"#440154\"],[0.1111111111111111,\"#482878\"],[0.2222222222222222,\"#3e4989\"],[0.3333333333333333,\"#31688e\"],[0.4444444444444444,\"#26828e\"],[0.5555555555555556,\"#1f9e89\"],[0.6666666666666666,\"#35b779\"],[0.7777777777777778,\"#6ece58\"],[0.8888888888888888,\"#b5de2b\"],[1.0,\"#fde725\"]],\"type\":\"histogram2dcontour\"}],\"histogram2d\":[{\"colorbar\":{\"outlinewidth\":1,\"tickcolor\":\"rgb(36,36,36)\",\"ticks\":\"outside\"},\"colorscale\":[[0.0,\"#440154\"],[0.1111111111111111,\"#482878\"],[0.2222222222222222,\"#3e4989\"],[0.3333333333333333,\"#31688e\"],[0.4444444444444444,\"#26828e\"],[0.5555555555555556,\"#1f9e89\"],[0.6666666666666666,\"#35b779\"],[0.7777777777777778,\"#6ece58\"],[0.8888888888888888,\"#b5de2b\"],[1.0,\"#fde725\"]],\"type\":\"histogram2d\"}],\"histogram\":[{\"marker\":{\"line\":{\"color\":\"white\",\"width\":0.6}},\"type\":\"histogram\"}],\"mesh3d\":[{\"colorbar\":{\"outlinewidth\":1,\"tickcolor\":\"rgb(36,36,36)\",\"ticks\":\"outside\"},\"type\":\"mesh3d\"}],\"parcoords\":[{\"line\":{\"colorbar\":{\"outlinewidth\":1,\"tickcolor\":\"rgb(36,36,36)\",\"ticks\":\"outside\"}},\"type\":\"parcoords\"}],\"pie\":[{\"automargin\":true,\"type\":\"pie\"}],\"scatter3d\":[{\"line\":{\"colorbar\":{\"outlinewidth\":1,\"tickcolor\":\"rgb(36,36,36)\",\"ticks\":\"outside\"}},\"marker\":{\"colorbar\":{\"outlinewidth\":1,\"tickcolor\":\"rgb(36,36,36)\",\"ticks\":\"outside\"}},\"type\":\"scatter3d\"}],\"scattercarpet\":[{\"marker\":{\"colorbar\":{\"outlinewidth\":1,\"tickcolor\":\"rgb(36,36,36)\",\"ticks\":\"outside\"}},\"type\":\"scattercarpet\"}],\"scattergeo\":[{\"marker\":{\"colorbar\":{\"outlinewidth\":1,\"tickcolor\":\"rgb(36,36,36)\",\"ticks\":\"outside\"}},\"type\":\"scattergeo\"}],\"scattergl\":[{\"marker\":{\"colorbar\":{\"outlinewidth\":1,\"tickcolor\":\"rgb(36,36,36)\",\"ticks\":\"outside\"}},\"type\":\"scattergl\"}],\"scattermapbox\":[{\"marker\":{\"colorbar\":{\"outlinewidth\":1,\"tickcolor\":\"rgb(36,36,36)\",\"ticks\":\"outside\"}},\"type\":\"scattermapbox\"}],\"scatterpolargl\":[{\"marker\":{\"colorbar\":{\"outlinewidth\":1,\"tickcolor\":\"rgb(36,36,36)\",\"ticks\":\"outside\"}},\"type\":\"scatterpolargl\"}],\"scatterpolar\":[{\"marker\":{\"colorbar\":{\"outlinewidth\":1,\"tickcolor\":\"rgb(36,36,36)\",\"ticks\":\"outside\"}},\"type\":\"scatterpolar\"}],\"scatter\":[{\"fillpattern\":{\"fillmode\":\"overlay\",\"size\":10,\"solidity\":0.2},\"type\":\"scatter\"}],\"scatterternary\":[{\"marker\":{\"colorbar\":{\"outlinewidth\":1,\"tickcolor\":\"rgb(36,36,36)\",\"ticks\":\"outside\"}},\"type\":\"scatterternary\"}],\"surface\":[{\"colorbar\":{\"outlinewidth\":1,\"tickcolor\":\"rgb(36,36,36)\",\"ticks\":\"outside\"},\"colorscale\":[[0.0,\"#440154\"],[0.1111111111111111,\"#482878\"],[0.2222222222222222,\"#3e4989\"],[0.3333333333333333,\"#31688e\"],[0.4444444444444444,\"#26828e\"],[0.5555555555555556,\"#1f9e89\"],[0.6666666666666666,\"#35b779\"],[0.7777777777777778,\"#6ece58\"],[0.8888888888888888,\"#b5de2b\"],[1.0,\"#fde725\"]],\"type\":\"surface\"}],\"table\":[{\"cells\":{\"fill\":{\"color\":\"rgb(237,237,237)\"},\"line\":{\"color\":\"white\"}},\"header\":{\"fill\":{\"color\":\"rgb(217,217,217)\"},\"line\":{\"color\":\"white\"}},\"type\":\"table\"}]},\"layout\":{\"annotationdefaults\":{\"arrowhead\":0,\"arrowwidth\":1},\"autotypenumbers\":\"strict\",\"coloraxis\":{\"colorbar\":{\"outlinewidth\":1,\"tickcolor\":\"rgb(36,36,36)\",\"ticks\":\"outside\"}},\"colorscale\":{\"diverging\":[[0.0,\"rgb(103,0,31)\"],[0.1,\"rgb(178,24,43)\"],[0.2,\"rgb(214,96,77)\"],[0.3,\"rgb(244,165,130)\"],[0.4,\"rgb(253,219,199)\"],[0.5,\"rgb(247,247,247)\"],[0.6,\"rgb(209,229,240)\"],[0.7,\"rgb(146,197,222)\"],[0.8,\"rgb(67,147,195)\"],[0.9,\"rgb(33,102,172)\"],[1.0,\"rgb(5,48,97)\"]],\"sequential\":[[0.0,\"#440154\"],[0.1111111111111111,\"#482878\"],[0.2222222222222222,\"#3e4989\"],[0.3333333333333333,\"#31688e\"],[0.4444444444444444,\"#26828e\"],[0.5555555555555556,\"#1f9e89\"],[0.6666666666666666,\"#35b779\"],[0.7777777777777778,\"#6ece58\"],[0.8888888888888888,\"#b5de2b\"],[1.0,\"#fde725\"]],\"sequentialminus\":[[0.0,\"#440154\"],[0.1111111111111111,\"#482878\"],[0.2222222222222222,\"#3e4989\"],[0.3333333333333333,\"#31688e\"],[0.4444444444444444,\"#26828e\"],[0.5555555555555556,\"#1f9e89\"],[0.6666666666666666,\"#35b779\"],[0.7777777777777778,\"#6ece58\"],[0.8888888888888888,\"#b5de2b\"],[1.0,\"#fde725\"]]},\"colorway\":[\"#1F77B4\",\"#FF7F0E\",\"#2CA02C\",\"#D62728\",\"#9467BD\",\"#8C564B\",\"#E377C2\",\"#7F7F7F\",\"#BCBD22\",\"#17BECF\"],\"font\":{\"color\":\"rgb(36,36,36)\"},\"geo\":{\"bgcolor\":\"white\",\"lakecolor\":\"white\",\"landcolor\":\"white\",\"showlakes\":true,\"showland\":true,\"subunitcolor\":\"white\"},\"hoverlabel\":{\"align\":\"left\"},\"hovermode\":\"closest\",\"mapbox\":{\"style\":\"light\"},\"paper_bgcolor\":\"white\",\"plot_bgcolor\":\"white\",\"polar\":{\"angularaxis\":{\"gridcolor\":\"rgb(232,232,232)\",\"linecolor\":\"rgb(36,36,36)\",\"showgrid\":false,\"showline\":true,\"ticks\":\"outside\"},\"bgcolor\":\"white\",\"radialaxis\":{\"gridcolor\":\"rgb(232,232,232)\",\"linecolor\":\"rgb(36,36,36)\",\"showgrid\":false,\"showline\":true,\"ticks\":\"outside\"}},\"scene\":{\"xaxis\":{\"backgroundcolor\":\"white\",\"gridcolor\":\"rgb(232,232,232)\",\"gridwidth\":2,\"linecolor\":\"rgb(36,36,36)\",\"showbackground\":true,\"showgrid\":false,\"showline\":true,\"ticks\":\"outside\",\"zeroline\":false,\"zerolinecolor\":\"rgb(36,36,36)\"},\"yaxis\":{\"backgroundcolor\":\"white\",\"gridcolor\":\"rgb(232,232,232)\",\"gridwidth\":2,\"linecolor\":\"rgb(36,36,36)\",\"showbackground\":true,\"showgrid\":false,\"showline\":true,\"ticks\":\"outside\",\"zeroline\":false,\"zerolinecolor\":\"rgb(36,36,36)\"},\"zaxis\":{\"backgroundcolor\":\"white\",\"gridcolor\":\"rgb(232,232,232)\",\"gridwidth\":2,\"linecolor\":\"rgb(36,36,36)\",\"showbackground\":true,\"showgrid\":false,\"showline\":true,\"ticks\":\"outside\",\"zeroline\":false,\"zerolinecolor\":\"rgb(36,36,36)\"}},\"shapedefaults\":{\"fillcolor\":\"black\",\"line\":{\"width\":0},\"opacity\":0.3},\"ternary\":{\"aaxis\":{\"gridcolor\":\"rgb(232,232,232)\",\"linecolor\":\"rgb(36,36,36)\",\"showgrid\":false,\"showline\":true,\"ticks\":\"outside\"},\"baxis\":{\"gridcolor\":\"rgb(232,232,232)\",\"linecolor\":\"rgb(36,36,36)\",\"showgrid\":false,\"showline\":true,\"ticks\":\"outside\"},\"bgcolor\":\"white\",\"caxis\":{\"gridcolor\":\"rgb(232,232,232)\",\"linecolor\":\"rgb(36,36,36)\",\"showgrid\":false,\"showline\":true,\"ticks\":\"outside\"}},\"title\":{\"x\":0.05},\"xaxis\":{\"automargin\":true,\"gridcolor\":\"rgb(232,232,232)\",\"linecolor\":\"rgb(36,36,36)\",\"showgrid\":false,\"showline\":true,\"ticks\":\"outside\",\"title\":{\"standoff\":15},\"zeroline\":false,\"zerolinecolor\":\"rgb(36,36,36)\"},\"yaxis\":{\"automargin\":true,\"gridcolor\":\"rgb(232,232,232)\",\"linecolor\":\"rgb(36,36,36)\",\"showgrid\":false,\"showline\":true,\"ticks\":\"outside\",\"title\":{\"standoff\":15},\"zeroline\":false,\"zerolinecolor\":\"rgb(36,36,36)\"}}},\"font\":{\"size\":18},\"title\":{\"text\":\"ARIMA\",\"x\":0.5},\"width\":650,\"height\":400,\"xaxis\":{\"title\":{\"text\":\"Date\"}},\"yaxis\":{\"title\":{\"text\":\"Passenger Volume\"}}},                        {\"responsive\": true}                    ).then(function(){\n",
       "                            \n",
       "var gd = document.getElementById('f08b896a-6e6a-4636-ac18-5d464ee5506c');\n",
       "var x = new MutationObserver(function (mutations, observer) {{\n",
       "        var display = window.getComputedStyle(gd).display;\n",
       "        if (!display || display === 'none') {{\n",
       "            console.log([gd, 'removed!']);\n",
       "            Plotly.purge(gd);\n",
       "            observer.disconnect();\n",
       "        }}\n",
       "}});\n",
       "\n",
       "// Listen for the removal of the full notebook cells\n",
       "var notebookContainer = gd.closest('#notebook-container');\n",
       "if (notebookContainer) {{\n",
       "    x.observe(notebookContainer, {childList: true});\n",
       "}}\n",
       "\n",
       "// Listen for the clearing of the current output cell\n",
       "var outputEl = gd.closest('.output');\n",
       "if (outputEl) {{\n",
       "    x.observe(outputEl, {childList: true});\n",
       "}}\n",
       "\n",
       "                        })                };                });            </script>        </div>"
      ]
     },
     "metadata": {},
     "output_type": "display_data"
    }
   ],
   "source": [
    "import plotly.graph_objects as go\n",
    "\n",
    "def plot_forecasts(forecasts: list[float], title: str) -> None:\n",
    "    \"\"\"Function to plot the forecasts.\"\"\"\n",
    "    fig = go.Figure()\n",
    "    fig.add_trace(go.Scatter(x=train.index, y=train['Packet Rate'], name='Train'))\n",
    "    fig.add_trace(go.Scatter(x=test.index, y=test['Packet Rate'], name='Test'))\n",
    "    fig.add_trace(go.Scatter(x=test.index, y=forecasts, name='Forecast'))\n",
    "    fig.update_layout(template=\"simple_white\", font=dict(size=18), title_text=title,\n",
    "                      width=650, title_x=0.5, height=400, xaxis_title='Date',\n",
    "                      yaxis_title='Passenger Volume')\n",
    "\n",
    "    return fig.show()\n",
    "\n",
    "\n",
    "# Plot the forecasts\n",
    "plot_forecasts(forecasts, 'ARIMA')"
   ]
  },
  {
   "cell_type": "code",
   "execution_count": 23,
   "id": "3970ff2c-355f-4c6b-bca1-414dbccb8b40",
   "metadata": {},
   "outputs": [
    {
     "name": "stdout",
     "output_type": "stream",
     "text": [
      "MAE: 28.428438373739624\n",
      "MSE: 1739.817423160859\n",
      "MAPE: 0.04635282210911343\n",
      "RSME: 41.711118699465004\n"
     ]
    }
   ],
   "source": [
    "from sklearn.metrics import mean_absolute_error, mean_squared_error, root_mean_squared_error, mean_absolute_percentage_error\n",
    "observed = test['Packet Rate']\n",
    "mae = mean_absolute_error(observed, forecasts)\n",
    "mse = mean_squared_error(observed, forecasts)\n",
    "mape = mean_absolute_percentage_error(observed, forecasts)\n",
    "rmse = root_mean_squared_error(observed, forecasts)\n",
    "print(f'MAE: {mae}')\n",
    "print(f'MSE: {mse}')\n",
    "print(f'MAPE: {mape}')\n",
    "print(f'RSME: {rmse}')"
   ]
  },
  {
   "cell_type": "code",
   "execution_count": 28,
   "id": "80c22286-95ed-46ce-88cd-38b164f9e6d1",
   "metadata": {},
   "outputs": [
    {
     "data": {
      "text/html": [
       "<div>\n",
       "<style scoped>\n",
       "    .dataframe tbody tr th:only-of-type {\n",
       "        vertical-align: middle;\n",
       "    }\n",
       "\n",
       "    .dataframe tbody tr th {\n",
       "        vertical-align: top;\n",
       "    }\n",
       "\n",
       "    .dataframe thead th {\n",
       "        text-align: right;\n",
       "    }\n",
       "</style>\n",
       "<table border=\"1\" class=\"dataframe\">\n",
       "  <thead>\n",
       "    <tr style=\"text-align: right;\">\n",
       "      <th></th>\n",
       "      <th>Model</th>\n",
       "      <th>MAE</th>\n",
       "      <th>MAPE</th>\n",
       "      <th>MSE</th>\n",
       "      <th>RMSE</th>\n",
       "    </tr>\n",
       "  </thead>\n",
       "  <tbody>\n",
       "    <tr>\n",
       "      <th>0</th>\n",
       "      <td>SARIMA</td>\n",
       "      <td>43.226426</td>\n",
       "      <td>0.073251</td>\n",
       "      <td>3196.550691</td>\n",
       "      <td>56.538046</td>\n",
       "    </tr>\n",
       "  </tbody>\n",
       "</table>\n",
       "</div>"
      ],
      "text/plain": [
       "    Model        MAE      MAPE          MSE       RMSE\n",
       "0  SARIMA  43.226426  0.073251  3196.550691  56.538046"
      ]
     },
     "execution_count": 28,
     "metadata": {},
     "output_type": "execute_result"
    }
   ],
   "source": [
    "%store -r models\n",
    "models"
   ]
  },
  {
   "cell_type": "code",
   "execution_count": 29,
   "id": "789c61f1-8b93-4732-baab-721f6b5c7758",
   "metadata": {},
   "outputs": [],
   "source": [
    "models.loc[1] = ['ARIMA','28.428438373739624','0.04635282210911343','1739.817423160859','41.711118699465004'] "
   ]
  },
  {
   "cell_type": "code",
   "execution_count": 30,
   "id": "41d09df9-aedc-414e-a121-0a391cddc37a",
   "metadata": {},
   "outputs": [
    {
     "data": {
      "text/html": [
       "<div>\n",
       "<style scoped>\n",
       "    .dataframe tbody tr th:only-of-type {\n",
       "        vertical-align: middle;\n",
       "    }\n",
       "\n",
       "    .dataframe tbody tr th {\n",
       "        vertical-align: top;\n",
       "    }\n",
       "\n",
       "    .dataframe thead th {\n",
       "        text-align: right;\n",
       "    }\n",
       "</style>\n",
       "<table border=\"1\" class=\"dataframe\">\n",
       "  <thead>\n",
       "    <tr style=\"text-align: right;\">\n",
       "      <th></th>\n",
       "      <th>Model</th>\n",
       "      <th>MAE</th>\n",
       "      <th>MAPE</th>\n",
       "      <th>MSE</th>\n",
       "      <th>RMSE</th>\n",
       "    </tr>\n",
       "  </thead>\n",
       "  <tbody>\n",
       "    <tr>\n",
       "      <th>0</th>\n",
       "      <td>SARIMA</td>\n",
       "      <td>43.226426</td>\n",
       "      <td>0.073251</td>\n",
       "      <td>3196.550691</td>\n",
       "      <td>56.538046</td>\n",
       "    </tr>\n",
       "    <tr>\n",
       "      <th>1</th>\n",
       "      <td>ARIMA</td>\n",
       "      <td>28.428438373739624</td>\n",
       "      <td>0.04635282210911343</td>\n",
       "      <td>1739.817423160859</td>\n",
       "      <td>41.711118699465004</td>\n",
       "    </tr>\n",
       "  </tbody>\n",
       "</table>\n",
       "</div>"
      ],
      "text/plain": [
       "    Model                 MAE                 MAPE                MSE  \\\n",
       "0  SARIMA           43.226426             0.073251        3196.550691   \n",
       "1   ARIMA  28.428438373739624  0.04635282210911343  1739.817423160859   \n",
       "\n",
       "                 RMSE  \n",
       "0           56.538046  \n",
       "1  41.711118699465004  "
      ]
     },
     "execution_count": 30,
     "metadata": {},
     "output_type": "execute_result"
    }
   ],
   "source": [
    "models"
   ]
  },
  {
   "cell_type": "code",
   "execution_count": 32,
   "id": "8c95632f-ede1-4788-92bf-2d47442fc980",
   "metadata": {},
   "outputs": [
    {
     "name": "stdout",
     "output_type": "stream",
     "text": [
      "Stored 'models' (DataFrame)\n"
     ]
    }
   ],
   "source": [
    "%store models"
   ]
  },
  {
   "cell_type": "code",
   "execution_count": null,
   "id": "18bf7c59-1b93-42f2-9026-5c2b66dc7a7d",
   "metadata": {},
   "outputs": [],
   "source": []
  }
 ],
 "metadata": {
  "kernelspec": {
   "display_name": "Python 3 (ipykernel)",
   "language": "python",
   "name": "python3"
  },
  "language_info": {
   "codemirror_mode": {
    "name": "ipython",
    "version": 3
   },
   "file_extension": ".py",
   "mimetype": "text/x-python",
   "name": "python",
   "nbconvert_exporter": "python",
   "pygments_lexer": "ipython3",
   "version": "3.11.8"
  }
 },
 "nbformat": 4,
 "nbformat_minor": 5
}
